{
 "cells": [
  {
   "cell_type": "markdown",
   "id": "1f2c8d38",
   "metadata": {},
   "source": [
    "# Project1"
   ]
  },
  {
   "cell_type": "markdown",
   "id": "923ca7ac",
   "metadata": {},
   "source": [
    "Data Preprocessing & EDA\n",
    "In Data Analysis What all Things We do\n",
    "1. Handling Missing Values\n",
    "2. Explore Numerical & Categorical Variables\n",
    "3. Finding relatioship between features"
   ]
  },
  {
   "cell_type": "markdown",
   "id": "76b4948a",
   "metadata": {},
   "source": [
    "# Generic Libraries"
   ]
  },
  {
   "cell_type": "code",
   "execution_count": 1,
   "id": "37133735",
   "metadata": {},
   "outputs": [],
   "source": [
    "import pandas as pd\n",
    "import numpy as np\n",
    "import matplotlib.pyplot as plt\n",
    "%matplotlib inline\n",
    "import seaborn as sns\n",
    "from sklearn.impute import SimpleImputer\n",
    "imputer = SimpleImputer(missing_values=np.nan, strategy='most_frequent')\n",
    "\n",
    "import warnings\n",
    "warnings.filterwarnings('ignore')"
   ]
  },
  {
   "cell_type": "markdown",
   "id": "f50e2ff4",
   "metadata": {},
   "source": [
    "# Loading Matches dataset"
   ]
  },
  {
   "cell_type": "code",
   "execution_count": 2,
   "id": "a3bd2a7a",
   "metadata": {},
   "outputs": [
    {
     "data": {
      "text/html": [
       "<div>\n",
       "<style scoped>\n",
       "    .dataframe tbody tr th:only-of-type {\n",
       "        vertical-align: middle;\n",
       "    }\n",
       "\n",
       "    .dataframe tbody tr th {\n",
       "        vertical-align: top;\n",
       "    }\n",
       "\n",
       "    .dataframe thead th {\n",
       "        text-align: right;\n",
       "    }\n",
       "</style>\n",
       "<table border=\"1\" class=\"dataframe\">\n",
       "  <thead>\n",
       "    <tr style=\"text-align: right;\">\n",
       "      <th></th>\n",
       "      <th>id</th>\n",
       "      <th>venueId</th>\n",
       "      <th>toss.elected</th>\n",
       "      <th>toss.winner</th>\n",
       "      <th>team1Id</th>\n",
       "      <th>team2Id</th>\n",
       "      <th>matchDate</th>\n",
       "      <th>matchEndDate</th>\n",
       "      <th>matchDateMs</th>\n",
       "      <th>matchEndDateMs</th>\n",
       "      <th>...</th>\n",
       "      <th>Unnamed: 164</th>\n",
       "      <th>Unnamed: 165</th>\n",
       "      <th>Unnamed: 166</th>\n",
       "      <th>Unnamed: 167</th>\n",
       "      <th>Unnamed: 168</th>\n",
       "      <th>Unnamed: 169</th>\n",
       "      <th>Unnamed: 170</th>\n",
       "      <th>Unnamed: 171</th>\n",
       "      <th>Unnamed: 172</th>\n",
       "      <th>Unnamed: 173</th>\n",
       "    </tr>\n",
       "  </thead>\n",
       "  <tbody>\n",
       "    <tr>\n",
       "      <th>0</th>\n",
       "      <td>2859</td>\n",
       "      <td>73</td>\n",
       "      <td>Australia, who chose to bat</td>\n",
       "      <td>Australia</td>\n",
       "      <td>2808</td>\n",
       "      <td>2809</td>\n",
       "      <td>1975-06-07T11:00:00+0000</td>\n",
       "      <td>1975-06-07T23:00:00+0000</td>\n",
       "      <td>1.713710e+11</td>\n",
       "      <td>1.714140e+11</td>\n",
       "      <td>...</td>\n",
       "      <td>NaN</td>\n",
       "      <td>NaN</td>\n",
       "      <td>NaN</td>\n",
       "      <td>NaN</td>\n",
       "      <td>NaN</td>\n",
       "      <td>NaN</td>\n",
       "      <td>NaN</td>\n",
       "      <td>NaN</td>\n",
       "      <td>NaN</td>\n",
       "      <td>NaN</td>\n",
       "    </tr>\n",
       "    <tr>\n",
       "      <th>1</th>\n",
       "      <td>2860</td>\n",
       "      <td>40</td>\n",
       "      <td>New Zealand, who chose to bat</td>\n",
       "      <td>New Zealand</td>\n",
       "      <td>2810</td>\n",
       "      <td>2811</td>\n",
       "      <td>1975-06-07T11:00:00+0000</td>\n",
       "      <td>1975-06-07T23:00:00+0000</td>\n",
       "      <td>1.713710e+11</td>\n",
       "      <td>1.714140e+11</td>\n",
       "      <td>...</td>\n",
       "      <td>NaN</td>\n",
       "      <td>NaN</td>\n",
       "      <td>NaN</td>\n",
       "      <td>NaN</td>\n",
       "      <td>NaN</td>\n",
       "      <td>NaN</td>\n",
       "      <td>NaN</td>\n",
       "      <td>NaN</td>\n",
       "      <td>NaN</td>\n",
       "      <td>NaN</td>\n",
       "    </tr>\n",
       "    <tr>\n",
       "      <th>2</th>\n",
       "      <td>2861</td>\n",
       "      <td>71</td>\n",
       "      <td>England, who chose to bat</td>\n",
       "      <td>England</td>\n",
       "      <td>2812</td>\n",
       "      <td>2813</td>\n",
       "      <td>1975-06-07T11:00:00+0000</td>\n",
       "      <td>1975-06-07T23:00:00+0000</td>\n",
       "      <td>1.713710e+11</td>\n",
       "      <td>1.714140e+11</td>\n",
       "      <td>...</td>\n",
       "      <td>NaN</td>\n",
       "      <td>NaN</td>\n",
       "      <td>NaN</td>\n",
       "      <td>NaN</td>\n",
       "      <td>NaN</td>\n",
       "      <td>NaN</td>\n",
       "      <td>NaN</td>\n",
       "      <td>NaN</td>\n",
       "      <td>NaN</td>\n",
       "      <td>NaN</td>\n",
       "    </tr>\n",
       "    <tr>\n",
       "      <th>3</th>\n",
       "      <td>2862</td>\n",
       "      <td>39</td>\n",
       "      <td>West Indies, who chose to field</td>\n",
       "      <td>West Indies</td>\n",
       "      <td>2814</td>\n",
       "      <td>2815</td>\n",
       "      <td>1975-06-07T11:00:00+0000</td>\n",
       "      <td>1975-06-07T23:00:00+0000</td>\n",
       "      <td>1.713710e+11</td>\n",
       "      <td>1.714140e+11</td>\n",
       "      <td>...</td>\n",
       "      <td>NaN</td>\n",
       "      <td>NaN</td>\n",
       "      <td>NaN</td>\n",
       "      <td>NaN</td>\n",
       "      <td>NaN</td>\n",
       "      <td>NaN</td>\n",
       "      <td>NaN</td>\n",
       "      <td>NaN</td>\n",
       "      <td>NaN</td>\n",
       "      <td>NaN</td>\n",
       "    </tr>\n",
       "    <tr>\n",
       "      <th>4</th>\n",
       "      <td>2863</td>\n",
       "      <td>82</td>\n",
       "      <td>Sri Lanka, who chose to field</td>\n",
       "      <td>Sri Lanka</td>\n",
       "      <td>2816</td>\n",
       "      <td>2817</td>\n",
       "      <td>1975-06-11T11:00:00+0000</td>\n",
       "      <td>1975-06-11T23:00:00+0000</td>\n",
       "      <td>1.717160e+11</td>\n",
       "      <td>1.717600e+11</td>\n",
       "      <td>...</td>\n",
       "      <td>NaN</td>\n",
       "      <td>NaN</td>\n",
       "      <td>NaN</td>\n",
       "      <td>NaN</td>\n",
       "      <td>NaN</td>\n",
       "      <td>NaN</td>\n",
       "      <td>NaN</td>\n",
       "      <td>NaN</td>\n",
       "      <td>NaN</td>\n",
       "      <td>NaN</td>\n",
       "    </tr>\n",
       "  </tbody>\n",
       "</table>\n",
       "<p>5 rows × 174 columns</p>\n",
       "</div>"
      ],
      "text/plain": [
       "     id  venueId                     toss.elected  toss.winner  team1Id  \\\n",
       "0  2859       73      Australia, who chose to bat    Australia     2808   \n",
       "1  2860       40    New Zealand, who chose to bat  New Zealand     2810   \n",
       "2  2861       71        England, who chose to bat      England     2812   \n",
       "3  2862       39  West Indies, who chose to field  West Indies     2814   \n",
       "4  2863       82    Sri Lanka, who chose to field    Sri Lanka     2816   \n",
       "\n",
       "   team2Id                 matchDate              matchEndDate   matchDateMs  \\\n",
       "0     2809  1975-06-07T11:00:00+0000  1975-06-07T23:00:00+0000  1.713710e+11   \n",
       "1     2811  1975-06-07T11:00:00+0000  1975-06-07T23:00:00+0000  1.713710e+11   \n",
       "2     2813  1975-06-07T11:00:00+0000  1975-06-07T23:00:00+0000  1.713710e+11   \n",
       "3     2815  1975-06-07T11:00:00+0000  1975-06-07T23:00:00+0000  1.713710e+11   \n",
       "4     2817  1975-06-11T11:00:00+0000  1975-06-11T23:00:00+0000  1.717160e+11   \n",
       "\n",
       "   matchEndDateMs  ... Unnamed: 164 Unnamed: 165  Unnamed: 166  Unnamed: 167  \\\n",
       "0    1.714140e+11  ...          NaN          NaN           NaN           NaN   \n",
       "1    1.714140e+11  ...          NaN          NaN           NaN           NaN   \n",
       "2    1.714140e+11  ...          NaN          NaN           NaN           NaN   \n",
       "3    1.714140e+11  ...          NaN          NaN           NaN           NaN   \n",
       "4    1.717600e+11  ...          NaN          NaN           NaN           NaN   \n",
       "\n",
       "   Unnamed: 168 Unnamed: 169 Unnamed: 170 Unnamed: 171 Unnamed: 172  \\\n",
       "0           NaN          NaN          NaN          NaN          NaN   \n",
       "1           NaN          NaN          NaN          NaN          NaN   \n",
       "2           NaN          NaN          NaN          NaN          NaN   \n",
       "3           NaN          NaN          NaN          NaN          NaN   \n",
       "4           NaN          NaN          NaN          NaN          NaN   \n",
       "\n",
       "   Unnamed: 173  \n",
       "0           NaN  \n",
       "1           NaN  \n",
       "2           NaN  \n",
       "3           NaN  \n",
       "4           NaN  \n",
       "\n",
       "[5 rows x 174 columns]"
      ]
     },
     "execution_count": 2,
     "metadata": {},
     "output_type": "execute_result"
    }
   ],
   "source": [
    "Matches = pd.read_csv('matches.csv')\n",
    "Matches.head()"
   ]
  },
  {
   "cell_type": "code",
   "execution_count": 3,
   "id": "82de2ed6",
   "metadata": {},
   "outputs": [
    {
     "data": {
      "text/plain": [
       "Index(['id', 'venueId', 'toss.elected', 'toss.winner', 'team1Id', 'team2Id',\n",
       "       'matchDate', 'matchEndDate', 'matchDateMs', 'matchEndDateMs',\n",
       "       ...\n",
       "       'Unnamed: 164', 'Unnamed: 165', 'Unnamed: 166', 'Unnamed: 167',\n",
       "       'Unnamed: 168', 'Unnamed: 169', 'Unnamed: 170', 'Unnamed: 171',\n",
       "       'Unnamed: 172', 'Unnamed: 173'],\n",
       "      dtype='object', length=174)"
      ]
     },
     "execution_count": 3,
     "metadata": {},
     "output_type": "execute_result"
    }
   ],
   "source": [
    "Matches.columns"
   ]
  },
  {
   "cell_type": "markdown",
   "id": "135290a2",
   "metadata": {},
   "source": [
    "# OBSERVATION"
   ]
  },
  {
   "cell_type": "markdown",
   "id": "07249b99",
   "metadata": {},
   "source": [
    "1. Some unnecessary columns found which need to drop\n",
    "2. Handling both categorical & Numerical columns separately"
   ]
  },
  {
   "cell_type": "code",
   "execution_count": 4,
   "id": "6bf48185",
   "metadata": {},
   "outputs": [
    {
     "data": {
      "text/plain": [
       "(1700, 174)"
      ]
     },
     "execution_count": 4,
     "metadata": {},
     "output_type": "execute_result"
    }
   ],
   "source": [
    "Matches.shape"
   ]
  },
  {
   "cell_type": "code",
   "execution_count": 5,
   "id": "6a8e4e80",
   "metadata": {},
   "outputs": [
    {
     "name": "stdout",
     "output_type": "stream",
     "text": [
      "<class 'pandas.core.frame.DataFrame'>\n",
      "RangeIndex: 1700 entries, 0 to 1699\n",
      "Columns: 174 entries, id to Unnamed: 173\n",
      "dtypes: bool(1), float64(156), int64(5), object(12)\n",
      "memory usage: 2.2+ MB\n"
     ]
    }
   ],
   "source": [
    "Matches.info()"
   ]
  },
  {
   "cell_type": "code",
   "execution_count": 6,
   "id": "b109b556",
   "metadata": {},
   "outputs": [
    {
     "data": {
      "text/html": [
       "<div>\n",
       "<style scoped>\n",
       "    .dataframe tbody tr th:only-of-type {\n",
       "        vertical-align: middle;\n",
       "    }\n",
       "\n",
       "    .dataframe tbody tr th {\n",
       "        vertical-align: top;\n",
       "    }\n",
       "\n",
       "    .dataframe thead th {\n",
       "        text-align: right;\n",
       "    }\n",
       "</style>\n",
       "<table border=\"1\" class=\"dataframe\">\n",
       "  <thead>\n",
       "    <tr style=\"text-align: right;\">\n",
       "      <th></th>\n",
       "      <th>count</th>\n",
       "      <th>mean</th>\n",
       "      <th>std</th>\n",
       "      <th>min</th>\n",
       "      <th>25%</th>\n",
       "      <th>50%</th>\n",
       "      <th>75%</th>\n",
       "      <th>max</th>\n",
       "    </tr>\n",
       "  </thead>\n",
       "  <tbody>\n",
       "    <tr>\n",
       "      <th>id</th>\n",
       "      <td>1700.0</td>\n",
       "      <td>2.289242e+04</td>\n",
       "      <td>3.584445e+04</td>\n",
       "      <td>5.430000e+02</td>\n",
       "      <td>2.970750e+03</td>\n",
       "      <td>4.328500e+03</td>\n",
       "      <td>2.156525e+04</td>\n",
       "      <td>1.029800e+05</td>\n",
       "    </tr>\n",
       "    <tr>\n",
       "      <th>venueId</th>\n",
       "      <td>1700.0</td>\n",
       "      <td>4.913962e+03</td>\n",
       "      <td>2.129321e+04</td>\n",
       "      <td>1.000000e+00</td>\n",
       "      <td>4.575000e+01</td>\n",
       "      <td>8.400000e+01</td>\n",
       "      <td>1.280000e+02</td>\n",
       "      <td>1.002360e+05</td>\n",
       "    </tr>\n",
       "    <tr>\n",
       "      <th>team1Id</th>\n",
       "      <td>1700.0</td>\n",
       "      <td>1.367768e+07</td>\n",
       "      <td>1.369351e+08</td>\n",
       "      <td>0.000000e+00</td>\n",
       "      <td>1.569250e+03</td>\n",
       "      <td>3.271000e+03</td>\n",
       "      <td>8.300000e+03</td>\n",
       "      <td>2.147212e+09</td>\n",
       "    </tr>\n",
       "    <tr>\n",
       "      <th>team2Id</th>\n",
       "      <td>1700.0</td>\n",
       "      <td>1.541787e+07</td>\n",
       "      <td>1.453228e+08</td>\n",
       "      <td>0.000000e+00</td>\n",
       "      <td>1.569750e+03</td>\n",
       "      <td>3.272000e+03</td>\n",
       "      <td>8.301000e+03</td>\n",
       "      <td>2.089043e+09</td>\n",
       "    </tr>\n",
       "    <tr>\n",
       "      <th>matchDateMs</th>\n",
       "      <td>1675.0</td>\n",
       "      <td>1.391383e+12</td>\n",
       "      <td>3.210956e+11</td>\n",
       "      <td>1.713710e+11</td>\n",
       "      <td>1.374110e+12</td>\n",
       "      <td>1.488090e+12</td>\n",
       "      <td>1.583525e+12</td>\n",
       "      <td>1.694520e+12</td>\n",
       "    </tr>\n",
       "    <tr>\n",
       "      <th>...</th>\n",
       "      <td>...</td>\n",
       "      <td>...</td>\n",
       "      <td>...</td>\n",
       "      <td>...</td>\n",
       "      <td>...</td>\n",
       "      <td>...</td>\n",
       "      <td>...</td>\n",
       "      <td>...</td>\n",
       "    </tr>\n",
       "    <tr>\n",
       "      <th>Unnamed: 169</th>\n",
       "      <td>0.0</td>\n",
       "      <td>NaN</td>\n",
       "      <td>NaN</td>\n",
       "      <td>NaN</td>\n",
       "      <td>NaN</td>\n",
       "      <td>NaN</td>\n",
       "      <td>NaN</td>\n",
       "      <td>NaN</td>\n",
       "    </tr>\n",
       "    <tr>\n",
       "      <th>Unnamed: 170</th>\n",
       "      <td>0.0</td>\n",
       "      <td>NaN</td>\n",
       "      <td>NaN</td>\n",
       "      <td>NaN</td>\n",
       "      <td>NaN</td>\n",
       "      <td>NaN</td>\n",
       "      <td>NaN</td>\n",
       "      <td>NaN</td>\n",
       "    </tr>\n",
       "    <tr>\n",
       "      <th>Unnamed: 171</th>\n",
       "      <td>0.0</td>\n",
       "      <td>NaN</td>\n",
       "      <td>NaN</td>\n",
       "      <td>NaN</td>\n",
       "      <td>NaN</td>\n",
       "      <td>NaN</td>\n",
       "      <td>NaN</td>\n",
       "      <td>NaN</td>\n",
       "    </tr>\n",
       "    <tr>\n",
       "      <th>Unnamed: 172</th>\n",
       "      <td>0.0</td>\n",
       "      <td>NaN</td>\n",
       "      <td>NaN</td>\n",
       "      <td>NaN</td>\n",
       "      <td>NaN</td>\n",
       "      <td>NaN</td>\n",
       "      <td>NaN</td>\n",
       "      <td>NaN</td>\n",
       "    </tr>\n",
       "    <tr>\n",
       "      <th>Unnamed: 173</th>\n",
       "      <td>0.0</td>\n",
       "      <td>NaN</td>\n",
       "      <td>NaN</td>\n",
       "      <td>NaN</td>\n",
       "      <td>NaN</td>\n",
       "      <td>NaN</td>\n",
       "      <td>NaN</td>\n",
       "      <td>NaN</td>\n",
       "    </tr>\n",
       "  </tbody>\n",
       "</table>\n",
       "<p>161 rows × 8 columns</p>\n",
       "</div>"
      ],
      "text/plain": [
       "               count          mean           std           min           25%  \\\n",
       "id            1700.0  2.289242e+04  3.584445e+04  5.430000e+02  2.970750e+03   \n",
       "venueId       1700.0  4.913962e+03  2.129321e+04  1.000000e+00  4.575000e+01   \n",
       "team1Id       1700.0  1.367768e+07  1.369351e+08  0.000000e+00  1.569250e+03   \n",
       "team2Id       1700.0  1.541787e+07  1.453228e+08  0.000000e+00  1.569750e+03   \n",
       "matchDateMs   1675.0  1.391383e+12  3.210956e+11  1.713710e+11  1.374110e+12   \n",
       "...              ...           ...           ...           ...           ...   \n",
       "Unnamed: 169     0.0           NaN           NaN           NaN           NaN   \n",
       "Unnamed: 170     0.0           NaN           NaN           NaN           NaN   \n",
       "Unnamed: 171     0.0           NaN           NaN           NaN           NaN   \n",
       "Unnamed: 172     0.0           NaN           NaN           NaN           NaN   \n",
       "Unnamed: 173     0.0           NaN           NaN           NaN           NaN   \n",
       "\n",
       "                       50%           75%           max  \n",
       "id            4.328500e+03  2.156525e+04  1.029800e+05  \n",
       "venueId       8.400000e+01  1.280000e+02  1.002360e+05  \n",
       "team1Id       3.271000e+03  8.300000e+03  2.147212e+09  \n",
       "team2Id       3.272000e+03  8.301000e+03  2.089043e+09  \n",
       "matchDateMs   1.488090e+12  1.583525e+12  1.694520e+12  \n",
       "...                    ...           ...           ...  \n",
       "Unnamed: 169           NaN           NaN           NaN  \n",
       "Unnamed: 170           NaN           NaN           NaN  \n",
       "Unnamed: 171           NaN           NaN           NaN  \n",
       "Unnamed: 172           NaN           NaN           NaN  \n",
       "Unnamed: 173           NaN           NaN           NaN  \n",
       "\n",
       "[161 rows x 8 columns]"
      ]
     },
     "execution_count": 6,
     "metadata": {},
     "output_type": "execute_result"
    }
   ],
   "source": [
    "Matches.describe().T"
   ]
  },
  {
   "cell_type": "code",
   "execution_count": 7,
   "id": "2a8172bc",
   "metadata": {},
   "outputs": [
    {
     "data": {
      "text/plain": [
       "id                 0\n",
       "venueId            0\n",
       "toss.elected     100\n",
       "toss.winner      100\n",
       "team1Id            0\n",
       "                ... \n",
       "Unnamed: 169    1700\n",
       "Unnamed: 170    1700\n",
       "Unnamed: 171    1700\n",
       "Unnamed: 172    1700\n",
       "Unnamed: 173    1700\n",
       "Length: 174, dtype: int64"
      ]
     },
     "execution_count": 7,
     "metadata": {},
     "output_type": "execute_result"
    }
   ],
   "source": [
    "Matches.isnull().sum()"
   ]
  },
  {
   "cell_type": "code",
   "execution_count": 8,
   "id": "327b1132",
   "metadata": {},
   "outputs": [],
   "source": [
    "Matches.drop (Matches.columns [Matches.columns.str.contains ('Unnamed',case = False)],axis = 1, inplace = True)"
   ]
  },
  {
   "cell_type": "code",
   "execution_count": 9,
   "id": "046e1b4e",
   "metadata": {},
   "outputs": [
    {
     "data": {
      "text/plain": [
       "Index(['id', 'venueId', 'toss.elected', 'toss.winner', 'team1Id', 'team2Id',\n",
       "       'matchDate', 'matchEndDate', 'matchDateMs', 'matchEndDateMs',\n",
       "       'matchStatus_outcome', 'matchStatus_text',\n",
       "       'matchStatus_victoryMarginRuns', 'matchStatus_victoryMarginWickets',\n",
       "       'matchStatus_victoryMarginInningsRuns', 'description', 'matchSummary',\n",
       "       'matchType', 'tournamentLabel', 'oversLimit', 'totalBalls',\n",
       "       'isLimitedOvers', 'match.summary', 'matchStatus', 'umpire.name.5'],\n",
       "      dtype='object')"
      ]
     },
     "execution_count": 9,
     "metadata": {},
     "output_type": "execute_result"
    }
   ],
   "source": [
    "Matches.columns"
   ]
  },
  {
   "cell_type": "code",
   "execution_count": 10,
   "id": "ba027477",
   "metadata": {},
   "outputs": [
    {
     "data": {
      "text/plain": [
       "(1700, 25)"
      ]
     },
     "execution_count": 10,
     "metadata": {},
     "output_type": "execute_result"
    }
   ],
   "source": [
    "Matches.shape"
   ]
  },
  {
   "cell_type": "markdown",
   "id": "8556219c",
   "metadata": {},
   "source": [
    "Getting Categorical columns separately"
   ]
  },
  {
   "cell_type": "code",
   "execution_count": 11,
   "id": "60b1bf9d",
   "metadata": {},
   "outputs": [],
   "source": [
    "def cat_num(Matches):\n",
    "    \n",
    "    categorical_columns = Matches.select_dtypes(include=['object']).columns\n",
    "    numerical_columns = Matches.select_dtypes(exclude=['object']).columns\n",
    "    \n",
    "    categorical_columns = Matches.select_dtypes(include=['object']).columns\n",
    "    print(\"Categorical Columns:\")\n",
    "    print(categorical_columns)\n",
    "    print(\"\\nMissing Values are : \")\n",
    "    print(Matches[categorical_columns].isnull().sum())\n",
    "    \n",
    "    Numerical_columns = Matches.select_dtypes(exclude=['object']).columns\n",
    "    print(\"\\nNumerical Columns:\")\n",
    "    print(Numerical_columns)\n",
    "    print(\"\\nMissing Values are : \")\n",
    "    print(Matches[Numerical_columns].isnull().sum())\n",
    "    "
   ]
  },
  {
   "cell_type": "code",
   "execution_count": 12,
   "id": "252deb38",
   "metadata": {},
   "outputs": [
    {
     "name": "stdout",
     "output_type": "stream",
     "text": [
      "Categorical Columns:\n",
      "Index(['toss.elected', 'toss.winner', 'matchDate', 'matchEndDate',\n",
      "       'matchStatus_outcome', 'matchStatus_text', 'description',\n",
      "       'matchSummary', 'matchType', 'tournamentLabel', 'match.summary',\n",
      "       'umpire.name.5'],\n",
      "      dtype='object')\n",
      "\n",
      "Missing Values are : \n",
      "toss.elected            100\n",
      "toss.winner             100\n",
      "matchDate                 0\n",
      "matchEndDate             26\n",
      "matchStatus_outcome      11\n",
      "matchStatus_text          8\n",
      "description               0\n",
      "matchSummary            799\n",
      "matchType                 0\n",
      "tournamentLabel           0\n",
      "match.summary           822\n",
      "umpire.name.5          1698\n",
      "dtype: int64\n",
      "\n",
      "Numerical Columns:\n",
      "Index(['id', 'venueId', 'team1Id', 'team2Id', 'matchDateMs', 'matchEndDateMs',\n",
      "       'matchStatus_victoryMarginRuns', 'matchStatus_victoryMarginWickets',\n",
      "       'matchStatus_victoryMarginInningsRuns', 'oversLimit', 'totalBalls',\n",
      "       'isLimitedOvers', 'matchStatus'],\n",
      "      dtype='object')\n",
      "\n",
      "Missing Values are : \n",
      "id                                         0\n",
      "venueId                                    0\n",
      "team1Id                                    0\n",
      "team2Id                                    0\n",
      "matchDateMs                               25\n",
      "matchEndDateMs                           342\n",
      "matchStatus_victoryMarginRuns           1554\n",
      "matchStatus_victoryMarginWickets        1557\n",
      "matchStatus_victoryMarginInningsRuns    1700\n",
      "oversLimit                                 0\n",
      "totalBalls                              1383\n",
      "isLimitedOvers                             0\n",
      "matchStatus                             1700\n",
      "dtype: int64\n"
     ]
    }
   ],
   "source": [
    "cat_num(Matches)"
   ]
  },
  {
   "cell_type": "code",
   "execution_count": 98,
   "id": "80598936",
   "metadata": {},
   "outputs": [
    {
     "data": {
      "text/plain": [
       "array([2808, 2810, 2812, ...,   11,  111,   66], dtype=int64)"
      ]
     },
     "execution_count": 98,
     "metadata": {},
     "output_type": "execute_result"
    }
   ],
   "source": [
    "Matches['team1Id'].unique()"
   ]
  },
  {
   "cell_type": "markdown",
   "id": "509294e3",
   "metadata": {},
   "source": [
    "Imputing Date Columns"
   ]
  },
  {
   "cell_type": "code",
   "execution_count": 13,
   "id": "a49d3129",
   "metadata": {},
   "outputs": [],
   "source": [
    "Matches['matchEndDate']=Matches['matchEndDate'].fillna(Matches['matchDate'])"
   ]
  },
  {
   "cell_type": "markdown",
   "id": "b335604e",
   "metadata": {},
   "source": [
    "Changing Date format"
   ]
  },
  {
   "cell_type": "code",
   "execution_count": 14,
   "id": "fe740953",
   "metadata": {},
   "outputs": [],
   "source": [
    "Matches['matchDate'] = pd.to_datetime(Matches['matchDate'], infer_datetime_format=True,utc=True)\n",
    "Matches['matchEndDate']=pd.to_datetime(Matches['matchEndDate'],infer_datetime_format=True,utc=True)"
   ]
  },
  {
   "cell_type": "code",
   "execution_count": null,
   "id": "0d54abdd",
   "metadata": {},
   "outputs": [],
   "source": []
  },
  {
   "cell_type": "code",
   "execution_count": 15,
   "id": "0731b0e1",
   "metadata": {},
   "outputs": [
    {
     "data": {
      "text/plain": [
       "<DatetimeArray>\n",
       "['1975-06-07 23:00:00+00:00', '1975-06-11 23:00:00+00:00',\n",
       " '1975-06-14 23:00:00+00:00', '1975-06-18 23:00:00+00:00',\n",
       " '1975-06-21 23:00:00+00:00', '1979-06-09 23:00:00+00:00',\n",
       " '1979-06-13 23:00:00+00:00', '1979-06-16 23:00:00+00:00',\n",
       " '1979-06-20 23:00:00+00:00', '1979-06-23 23:00:00+00:00',\n",
       " ...\n",
       " '2023-09-05 17:00:00+00:00', '2023-09-06 17:00:00+00:00',\n",
       " '2023-09-07 19:00:00+00:00', '2023-09-08 19:30:00+00:00',\n",
       " '2023-09-09 16:30:00+00:00', '2023-09-09 19:00:00+00:00',\n",
       " '2023-09-10 16:30:00+00:00', '2023-09-10 18:00:00+00:00',\n",
       " '2023-09-12 16:30:00+00:00', '2023-09-12 19:00:00+00:00']\n",
       "Length: 1519, dtype: datetime64[ns, UTC]"
      ]
     },
     "execution_count": 15,
     "metadata": {},
     "output_type": "execute_result"
    }
   ],
   "source": [
    "Matches['matchEndDate'].unique()"
   ]
  },
  {
   "cell_type": "code",
   "execution_count": 16,
   "id": "e0cfefac",
   "metadata": {},
   "outputs": [
    {
     "data": {
      "text/plain": [
       "id                                       0.00\n",
       "venueId                                  0.00\n",
       "toss.elected                             1.00\n",
       "toss.winner                              1.00\n",
       "team1Id                                  0.00\n",
       "team2Id                                  0.00\n",
       "matchDate                                0.00\n",
       "matchEndDate                             0.00\n",
       "matchDateMs                              0.25\n",
       "matchEndDateMs                           3.42\n",
       "matchStatus_outcome                      0.11\n",
       "matchStatus_text                         0.08\n",
       "matchStatus_victoryMarginRuns           15.54\n",
       "matchStatus_victoryMarginWickets        15.57\n",
       "matchStatus_victoryMarginInningsRuns    17.00\n",
       "description                              0.00\n",
       "matchSummary                             7.99\n",
       "matchType                                0.00\n",
       "tournamentLabel                          0.00\n",
       "oversLimit                               0.00\n",
       "totalBalls                              13.83\n",
       "isLimitedOvers                           0.00\n",
       "match.summary                            8.22\n",
       "matchStatus                             17.00\n",
       "umpire.name.5                           16.98\n",
       "dtype: float64"
      ]
     },
     "execution_count": 16,
     "metadata": {},
     "output_type": "execute_result"
    }
   ],
   "source": [
    "Matches.isnull().sum()/100"
   ]
  },
  {
   "cell_type": "code",
   "execution_count": 17,
   "id": "cd33be10",
   "metadata": {},
   "outputs": [],
   "source": [
    "Matches['matchEndDate']=Matches['matchEndDate'].fillna(Matches['matchDate']) #Ending dates can be imputed by starting date column"
   ]
  },
  {
   "cell_type": "code",
   "execution_count": 18,
   "id": "0f70e1dc",
   "metadata": {},
   "outputs": [
    {
     "data": {
      "text/plain": [
       "<DatetimeArray>\n",
       "['1975-06-07 23:00:00+00:00', '1975-06-11 23:00:00+00:00',\n",
       " '1975-06-14 23:00:00+00:00', '1975-06-18 23:00:00+00:00',\n",
       " '1975-06-21 23:00:00+00:00', '1979-06-09 23:00:00+00:00',\n",
       " '1979-06-13 23:00:00+00:00', '1979-06-16 23:00:00+00:00',\n",
       " '1979-06-20 23:00:00+00:00', '1979-06-23 23:00:00+00:00',\n",
       " ...\n",
       " '2023-09-05 17:00:00+00:00', '2023-09-06 17:00:00+00:00',\n",
       " '2023-09-07 19:00:00+00:00', '2023-09-08 19:30:00+00:00',\n",
       " '2023-09-09 16:30:00+00:00', '2023-09-09 19:00:00+00:00',\n",
       " '2023-09-10 16:30:00+00:00', '2023-09-10 18:00:00+00:00',\n",
       " '2023-09-12 16:30:00+00:00', '2023-09-12 19:00:00+00:00']\n",
       "Length: 1519, dtype: datetime64[ns, UTC]"
      ]
     },
     "execution_count": 18,
     "metadata": {},
     "output_type": "execute_result"
    }
   ],
   "source": [
    "Matches['matchEndDate'].unique()"
   ]
  },
  {
   "cell_type": "code",
   "execution_count": 19,
   "id": "2371e56f",
   "metadata": {},
   "outputs": [],
   "source": [
    " #Imputing Categorical columns as missing values"
   ]
  },
  {
   "cell_type": "code",
   "execution_count": 20,
   "id": "2d6269f2",
   "metadata": {},
   "outputs": [],
   "source": [
    "Matches[['toss.elected', 'toss.winner', 'matchStatus_outcome', 'matchStatus_text', 'matchSummary', 'match.summary', 'umpire.name.5']] = imputer.fit_transform(Matches[['toss.elected', 'toss.winner', 'matchStatus_outcome', 'matchStatus_text', 'matchSummary', 'match.summary', 'umpire.name.5']])"
   ]
  },
  {
   "cell_type": "code",
   "execution_count": 21,
   "id": "f4accac5",
   "metadata": {},
   "outputs": [
    {
     "data": {
      "text/plain": [
       "id                                         0\n",
       "venueId                                    0\n",
       "toss.elected                               0\n",
       "toss.winner                                0\n",
       "team1Id                                    0\n",
       "team2Id                                    0\n",
       "matchDate                                  0\n",
       "matchEndDate                               0\n",
       "matchDateMs                               25\n",
       "matchEndDateMs                           342\n",
       "matchStatus_outcome                        0\n",
       "matchStatus_text                           0\n",
       "matchStatus_victoryMarginRuns           1554\n",
       "matchStatus_victoryMarginWickets        1557\n",
       "matchStatus_victoryMarginInningsRuns    1700\n",
       "description                                0\n",
       "matchSummary                               0\n",
       "matchType                                  0\n",
       "tournamentLabel                            0\n",
       "oversLimit                                 0\n",
       "totalBalls                              1383\n",
       "isLimitedOvers                             0\n",
       "match.summary                              0\n",
       "matchStatus                             1700\n",
       "umpire.name.5                              0\n",
       "dtype: int64"
      ]
     },
     "execution_count": 21,
     "metadata": {},
     "output_type": "execute_result"
    }
   ],
   "source": [
    "Matches.isnull().sum()"
   ]
  },
  {
   "cell_type": "code",
   "execution_count": null,
   "id": "3eb8d04c",
   "metadata": {},
   "outputs": [],
   "source": []
  },
  {
   "cell_type": "code",
   "execution_count": 22,
   "id": "76b2c594",
   "metadata": {},
   "outputs": [],
   "source": [
    "#Now tackling numerical columns having null values"
   ]
  },
  {
   "cell_type": "code",
   "execution_count": 23,
   "id": "7fb7053b",
   "metadata": {},
   "outputs": [],
   "source": [
    "Matches['matchStatus_victoryMarginRuns']=Matches['matchStatus_victoryMarginRuns'].fillna(Matches['matchStatus_victoryMarginRuns'].mean())"
   ]
  },
  {
   "cell_type": "code",
   "execution_count": 24,
   "id": "4653b216",
   "metadata": {},
   "outputs": [],
   "source": [
    "Matches=Matches.drop(['matchDateMs','matchEndDateMs','matchStatus_victoryMarginInningsRuns', 'matchStatus_victoryMarginWickets'],axis=1)"
   ]
  },
  {
   "cell_type": "code",
   "execution_count": 25,
   "id": "0ca3fb78",
   "metadata": {},
   "outputs": [],
   "source": [
    "imputer = SimpleImputer(missing_values=np.nan, strategy='mean')"
   ]
  },
  {
   "cell_type": "code",
   "execution_count": 26,
   "id": "cbf637f8",
   "metadata": {},
   "outputs": [
    {
     "name": "stdout",
     "output_type": "stream",
     "text": [
      "Index([], dtype='object')\n"
     ]
    }
   ],
   "source": [
    "print(Matches.columns[Matches.columns.duplicated(keep=False)])"
   ]
  },
  {
   "cell_type": "code",
   "execution_count": 27,
   "id": "cf9e8209",
   "metadata": {},
   "outputs": [],
   "source": [
    "Matches[['totalBalls']] = imputer.fit_transform(Matches[['totalBalls']])"
   ]
  },
  {
   "cell_type": "code",
   "execution_count": 28,
   "id": "a15cbeca",
   "metadata": {},
   "outputs": [
    {
     "data": {
      "text/plain": [
       "id                                  0\n",
       "venueId                             0\n",
       "toss.elected                        0\n",
       "toss.winner                         0\n",
       "team1Id                             0\n",
       "team2Id                             0\n",
       "matchDate                           0\n",
       "matchEndDate                        0\n",
       "matchStatus_outcome                 0\n",
       "matchStatus_text                    0\n",
       "matchStatus_victoryMarginRuns       0\n",
       "description                         0\n",
       "matchSummary                        0\n",
       "matchType                           0\n",
       "tournamentLabel                     0\n",
       "oversLimit                          0\n",
       "totalBalls                          0\n",
       "isLimitedOvers                      0\n",
       "match.summary                       0\n",
       "matchStatus                      1700\n",
       "umpire.name.5                       0\n",
       "dtype: int64"
      ]
     },
     "execution_count": 28,
     "metadata": {},
     "output_type": "execute_result"
    }
   ],
   "source": [
    "Matches.isnull().sum()"
   ]
  },
  {
   "cell_type": "code",
   "execution_count": 29,
   "id": "01bed4b9",
   "metadata": {},
   "outputs": [
    {
     "data": {
      "text/plain": [
       "array([nan])"
      ]
     },
     "execution_count": 29,
     "metadata": {},
     "output_type": "execute_result"
    }
   ],
   "source": [
    "Matches['matchStatus'].unique()"
   ]
  },
  {
   "cell_type": "code",
   "execution_count": 30,
   "id": "a59e56af",
   "metadata": {},
   "outputs": [],
   "source": [
    "Matches = Matches.drop('matchStatus', axis=1)"
   ]
  },
  {
   "cell_type": "code",
   "execution_count": 31,
   "id": "7b880a30",
   "metadata": {},
   "outputs": [
    {
     "data": {
      "text/plain": [
       "id                               0\n",
       "venueId                          0\n",
       "toss.elected                     0\n",
       "toss.winner                      0\n",
       "team1Id                          0\n",
       "team2Id                          0\n",
       "matchDate                        0\n",
       "matchEndDate                     0\n",
       "matchStatus_outcome              0\n",
       "matchStatus_text                 0\n",
       "matchStatus_victoryMarginRuns    0\n",
       "description                      0\n",
       "matchSummary                     0\n",
       "matchType                        0\n",
       "tournamentLabel                  0\n",
       "oversLimit                       0\n",
       "totalBalls                       0\n",
       "isLimitedOvers                   0\n",
       "match.summary                    0\n",
       "umpire.name.5                    0\n",
       "dtype: int64"
      ]
     },
     "execution_count": 31,
     "metadata": {},
     "output_type": "execute_result"
    }
   ],
   "source": [
    "Matches.isnull().sum()"
   ]
  },
  {
   "cell_type": "code",
   "execution_count": 32,
   "id": "a0bf8c85",
   "metadata": {},
   "outputs": [
    {
     "data": {
      "text/plain": [
       "0"
      ]
     },
     "execution_count": 32,
     "metadata": {},
     "output_type": "execute_result"
    }
   ],
   "source": [
    "Matches.duplicated().sum()"
   ]
  },
  {
   "cell_type": "markdown",
   "id": "04e45403",
   "metadata": {},
   "source": [
    "# Loading Innings dataset"
   ]
  },
  {
   "cell_type": "code",
   "execution_count": 33,
   "id": "c206bc1f",
   "metadata": {},
   "outputs": [
    {
     "data": {
      "text/html": [
       "<div>\n",
       "<style scoped>\n",
       "    .dataframe tbody tr th:only-of-type {\n",
       "        vertical-align: middle;\n",
       "    }\n",
       "\n",
       "    .dataframe tbody tr th {\n",
       "        vertical-align: top;\n",
       "    }\n",
       "\n",
       "    .dataframe thead th {\n",
       "        text-align: right;\n",
       "    }\n",
       "</style>\n",
       "<table border=\"1\" class=\"dataframe\">\n",
       "  <thead>\n",
       "    <tr style=\"text-align: right;\">\n",
       "      <th></th>\n",
       "      <th>id</th>\n",
       "      <th>matchId</th>\n",
       "      <th>inningsNumber</th>\n",
       "      <th>runRate</th>\n",
       "      <th>overProgress</th>\n",
       "      <th>runs</th>\n",
       "      <th>wkts</th>\n",
       "      <th>ballsFaced</th>\n",
       "      <th>fours</th>\n",
       "      <th>sixes</th>\n",
       "      <th>allOut</th>\n",
       "      <th>noBallRuns</th>\n",
       "      <th>wideRuns</th>\n",
       "      <th>byeRuns</th>\n",
       "      <th>legByeRuns</th>\n",
       "      <th>penaltyRuns</th>\n",
       "      <th>battingTeamId</th>\n",
       "      <th>bowlingTeamId</th>\n",
       "    </tr>\n",
       "  </thead>\n",
       "  <tbody>\n",
       "    <tr>\n",
       "      <th>0</th>\n",
       "      <td>1</td>\n",
       "      <td>3124</td>\n",
       "      <td>1</td>\n",
       "      <td>4.82</td>\n",
       "      <td>50.0</td>\n",
       "      <td>241</td>\n",
       "      <td>9</td>\n",
       "      <td>0</td>\n",
       "      <td>0</td>\n",
       "      <td>0</td>\n",
       "      <td>False</td>\n",
       "      <td>3</td>\n",
       "      <td>6</td>\n",
       "      <td>0</td>\n",
       "      <td>2</td>\n",
       "      <td>0</td>\n",
       "      <td>NaN</td>\n",
       "      <td>NaN</td>\n",
       "    </tr>\n",
       "    <tr>\n",
       "      <th>1</th>\n",
       "      <td>2</td>\n",
       "      <td>3124</td>\n",
       "      <td>2</td>\n",
       "      <td>3.95</td>\n",
       "      <td>47.2</td>\n",
       "      <td>187</td>\n",
       "      <td>10</td>\n",
       "      <td>0</td>\n",
       "      <td>0</td>\n",
       "      <td>0</td>\n",
       "      <td>True</td>\n",
       "      <td>0</td>\n",
       "      <td>2</td>\n",
       "      <td>0</td>\n",
       "      <td>2</td>\n",
       "      <td>0</td>\n",
       "      <td>NaN</td>\n",
       "      <td>NaN</td>\n",
       "    </tr>\n",
       "    <tr>\n",
       "      <th>2</th>\n",
       "      <td>3</td>\n",
       "      <td>3125</td>\n",
       "      <td>1</td>\n",
       "      <td>6.68</td>\n",
       "      <td>50.0</td>\n",
       "      <td>334</td>\n",
       "      <td>6</td>\n",
       "      <td>0</td>\n",
       "      <td>0</td>\n",
       "      <td>0</td>\n",
       "      <td>False</td>\n",
       "      <td>1</td>\n",
       "      <td>5</td>\n",
       "      <td>1</td>\n",
       "      <td>2</td>\n",
       "      <td>0</td>\n",
       "      <td>NaN</td>\n",
       "      <td>NaN</td>\n",
       "    </tr>\n",
       "    <tr>\n",
       "      <th>3</th>\n",
       "      <td>4</td>\n",
       "      <td>3125</td>\n",
       "      <td>2</td>\n",
       "      <td>3.26</td>\n",
       "      <td>40.1</td>\n",
       "      <td>131</td>\n",
       "      <td>9</td>\n",
       "      <td>0</td>\n",
       "      <td>0</td>\n",
       "      <td>0</td>\n",
       "      <td>True</td>\n",
       "      <td>1</td>\n",
       "      <td>6</td>\n",
       "      <td>0</td>\n",
       "      <td>9</td>\n",
       "      <td>0</td>\n",
       "      <td>NaN</td>\n",
       "      <td>NaN</td>\n",
       "    </tr>\n",
       "    <tr>\n",
       "      <th>4</th>\n",
       "      <td>5</td>\n",
       "      <td>3126</td>\n",
       "      <td>1</td>\n",
       "      <td>3.98</td>\n",
       "      <td>50.0</td>\n",
       "      <td>199</td>\n",
       "      <td>10</td>\n",
       "      <td>0</td>\n",
       "      <td>0</td>\n",
       "      <td>0</td>\n",
       "      <td>True</td>\n",
       "      <td>6</td>\n",
       "      <td>3</td>\n",
       "      <td>0</td>\n",
       "      <td>5</td>\n",
       "      <td>0</td>\n",
       "      <td>NaN</td>\n",
       "      <td>NaN</td>\n",
       "    </tr>\n",
       "  </tbody>\n",
       "</table>\n",
       "</div>"
      ],
      "text/plain": [
       "   id  matchId  inningsNumber  runRate  overProgress  runs  wkts  ballsFaced  \\\n",
       "0   1     3124              1     4.82          50.0   241     9           0   \n",
       "1   2     3124              2     3.95          47.2   187    10           0   \n",
       "2   3     3125              1     6.68          50.0   334     6           0   \n",
       "3   4     3125              2     3.26          40.1   131     9           0   \n",
       "4   5     3126              1     3.98          50.0   199    10           0   \n",
       "\n",
       "   fours  sixes  allOut  noBallRuns  wideRuns  byeRuns  legByeRuns  \\\n",
       "0      0      0   False           3         6        0           2   \n",
       "1      0      0    True           0         2        0           2   \n",
       "2      0      0   False           1         5        1           2   \n",
       "3      0      0    True           1         6        0           9   \n",
       "4      0      0    True           6         3        0           5   \n",
       "\n",
       "   penaltyRuns  battingTeamId  bowlingTeamId  \n",
       "0            0            NaN            NaN  \n",
       "1            0            NaN            NaN  \n",
       "2            0            NaN            NaN  \n",
       "3            0            NaN            NaN  \n",
       "4            0            NaN            NaN  "
      ]
     },
     "execution_count": 33,
     "metadata": {},
     "output_type": "execute_result"
    }
   ],
   "source": [
    "Innings = pd.read_csv('innings.csv')\n",
    "Innings.head()"
   ]
  },
  {
   "cell_type": "code",
   "execution_count": 34,
   "id": "fe29709f",
   "metadata": {},
   "outputs": [
    {
     "data": {
      "text/plain": [
       "(2682, 18)"
      ]
     },
     "execution_count": 34,
     "metadata": {},
     "output_type": "execute_result"
    }
   ],
   "source": [
    "Innings.shape"
   ]
  },
  {
   "cell_type": "code",
   "execution_count": 35,
   "id": "fe85a929",
   "metadata": {},
   "outputs": [
    {
     "data": {
      "text/plain": [
       "Index(['id', 'matchId', 'inningsNumber', 'runRate', 'overProgress', 'runs',\n",
       "       'wkts', 'ballsFaced', 'fours', 'sixes', 'allOut', 'noBallRuns',\n",
       "       'wideRuns', 'byeRuns', 'legByeRuns', 'penaltyRuns', 'battingTeamId',\n",
       "       'bowlingTeamId'],\n",
       "      dtype='object')"
      ]
     },
     "execution_count": 35,
     "metadata": {},
     "output_type": "execute_result"
    }
   ],
   "source": [
    "Innings.columns"
   ]
  },
  {
   "cell_type": "code",
   "execution_count": 36,
   "id": "e662f219",
   "metadata": {},
   "outputs": [
    {
     "name": "stdout",
     "output_type": "stream",
     "text": [
      "<class 'pandas.core.frame.DataFrame'>\n",
      "RangeIndex: 2682 entries, 0 to 2681\n",
      "Data columns (total 18 columns):\n",
      " #   Column         Non-Null Count  Dtype  \n",
      "---  ------         --------------  -----  \n",
      " 0   id             2682 non-null   int64  \n",
      " 1   matchId        2682 non-null   int64  \n",
      " 2   inningsNumber  2682 non-null   int64  \n",
      " 3   runRate        2682 non-null   float64\n",
      " 4   overProgress   2682 non-null   float64\n",
      " 5   runs           2682 non-null   int64  \n",
      " 6   wkts           2682 non-null   int64  \n",
      " 7   ballsFaced     2682 non-null   int64  \n",
      " 8   fours          2682 non-null   int64  \n",
      " 9   sixes          2682 non-null   int64  \n",
      " 10  allOut         2682 non-null   bool   \n",
      " 11  noBallRuns     2682 non-null   int64  \n",
      " 12  wideRuns       2682 non-null   int64  \n",
      " 13  byeRuns        2682 non-null   int64  \n",
      " 14  legByeRuns     2682 non-null   int64  \n",
      " 15  penaltyRuns    2682 non-null   int64  \n",
      " 16  battingTeamId  601 non-null    float64\n",
      " 17  bowlingTeamId  601 non-null    float64\n",
      "dtypes: bool(1), float64(4), int64(13)\n",
      "memory usage: 359.0 KB\n"
     ]
    }
   ],
   "source": [
    "Innings.info()"
   ]
  },
  {
   "cell_type": "code",
   "execution_count": 37,
   "id": "a538f067",
   "metadata": {},
   "outputs": [
    {
     "data": {
      "text/plain": [
       "id                  0\n",
       "matchId             0\n",
       "inningsNumber       0\n",
       "runRate             0\n",
       "overProgress        0\n",
       "runs                0\n",
       "wkts                0\n",
       "ballsFaced          0\n",
       "fours               0\n",
       "sixes               0\n",
       "allOut              0\n",
       "noBallRuns          0\n",
       "wideRuns            0\n",
       "byeRuns             0\n",
       "legByeRuns          0\n",
       "penaltyRuns         0\n",
       "battingTeamId    2081\n",
       "bowlingTeamId    2081\n",
       "dtype: int64"
      ]
     },
     "execution_count": 37,
     "metadata": {},
     "output_type": "execute_result"
    }
   ],
   "source": [
    "Innings.isnull().sum()"
   ]
  },
  {
   "cell_type": "code",
   "execution_count": 38,
   "id": "ca62b4bb",
   "metadata": {},
   "outputs": [],
   "source": [
    "Innings[['battingTeamId', 'bowlingTeamId']] = Innings[['battingTeamId', 'bowlingTeamId']].fillna('Missing values')"
   ]
  },
  {
   "cell_type": "code",
   "execution_count": 39,
   "id": "2bb439c0",
   "metadata": {},
   "outputs": [
    {
     "data": {
      "text/plain": [
       "id               0\n",
       "matchId          0\n",
       "inningsNumber    0\n",
       "runRate          0\n",
       "overProgress     0\n",
       "runs             0\n",
       "wkts             0\n",
       "ballsFaced       0\n",
       "fours            0\n",
       "sixes            0\n",
       "allOut           0\n",
       "noBallRuns       0\n",
       "wideRuns         0\n",
       "byeRuns          0\n",
       "legByeRuns       0\n",
       "penaltyRuns      0\n",
       "battingTeamId    0\n",
       "bowlingTeamId    0\n",
       "dtype: int64"
      ]
     },
     "execution_count": 39,
     "metadata": {},
     "output_type": "execute_result"
    }
   ],
   "source": [
    "Innings.isnull().sum()"
   ]
  },
  {
   "cell_type": "code",
   "execution_count": 40,
   "id": "bbce2e3e",
   "metadata": {},
   "outputs": [
    {
     "data": {
      "text/html": [
       "<div>\n",
       "<style scoped>\n",
       "    .dataframe tbody tr th:only-of-type {\n",
       "        vertical-align: middle;\n",
       "    }\n",
       "\n",
       "    .dataframe tbody tr th {\n",
       "        vertical-align: top;\n",
       "    }\n",
       "\n",
       "    .dataframe thead th {\n",
       "        text-align: right;\n",
       "    }\n",
       "</style>\n",
       "<table border=\"1\" class=\"dataframe\">\n",
       "  <thead>\n",
       "    <tr style=\"text-align: right;\">\n",
       "      <th></th>\n",
       "      <th>count</th>\n",
       "      <th>mean</th>\n",
       "      <th>std</th>\n",
       "      <th>min</th>\n",
       "      <th>25%</th>\n",
       "      <th>50%</th>\n",
       "      <th>75%</th>\n",
       "      <th>max</th>\n",
       "    </tr>\n",
       "  </thead>\n",
       "  <tbody>\n",
       "    <tr>\n",
       "      <th>id</th>\n",
       "      <td>2682.0</td>\n",
       "      <td>1341.500000</td>\n",
       "      <td>774.371035</td>\n",
       "      <td>1.00</td>\n",
       "      <td>671.2500</td>\n",
       "      <td>1341.50</td>\n",
       "      <td>2011.75</td>\n",
       "      <td>2682.00</td>\n",
       "    </tr>\n",
       "    <tr>\n",
       "      <th>matchId</th>\n",
       "      <td>2682.0</td>\n",
       "      <td>26651.462342</td>\n",
       "      <td>38412.373645</td>\n",
       "      <td>543.00</td>\n",
       "      <td>3166.0000</td>\n",
       "      <td>6896.00</td>\n",
       "      <td>31750.00</td>\n",
       "      <td>102980.00</td>\n",
       "    </tr>\n",
       "    <tr>\n",
       "      <th>inningsNumber</th>\n",
       "      <td>2682.0</td>\n",
       "      <td>1.494407</td>\n",
       "      <td>0.500062</td>\n",
       "      <td>1.00</td>\n",
       "      <td>1.0000</td>\n",
       "      <td>1.00</td>\n",
       "      <td>2.00</td>\n",
       "      <td>2.00</td>\n",
       "    </tr>\n",
       "    <tr>\n",
       "      <th>runRate</th>\n",
       "      <td>2682.0</td>\n",
       "      <td>5.275459</td>\n",
       "      <td>1.174865</td>\n",
       "      <td>2.37</td>\n",
       "      <td>4.4425</td>\n",
       "      <td>5.21</td>\n",
       "      <td>6.00</td>\n",
       "      <td>14.16</td>\n",
       "    </tr>\n",
       "    <tr>\n",
       "      <th>overProgress</th>\n",
       "      <td>2682.0</td>\n",
       "      <td>43.772110</td>\n",
       "      <td>8.996007</td>\n",
       "      <td>0.40</td>\n",
       "      <td>41.0000</td>\n",
       "      <td>48.20</td>\n",
       "      <td>50.00</td>\n",
       "      <td>50.00</td>\n",
       "    </tr>\n",
       "    <tr>\n",
       "      <th>runs</th>\n",
       "      <td>2682.0</td>\n",
       "      <td>231.857196</td>\n",
       "      <td>70.897934</td>\n",
       "      <td>4.00</td>\n",
       "      <td>186.0000</td>\n",
       "      <td>233.50</td>\n",
       "      <td>282.00</td>\n",
       "      <td>498.00</td>\n",
       "    </tr>\n",
       "    <tr>\n",
       "      <th>wkts</th>\n",
       "      <td>2682.0</td>\n",
       "      <td>7.419090</td>\n",
       "      <td>2.740889</td>\n",
       "      <td>0.00</td>\n",
       "      <td>6.0000</td>\n",
       "      <td>8.00</td>\n",
       "      <td>10.00</td>\n",
       "      <td>11.00</td>\n",
       "    </tr>\n",
       "    <tr>\n",
       "      <th>ballsFaced</th>\n",
       "      <td>2682.0</td>\n",
       "      <td>58.701342</td>\n",
       "      <td>112.282896</td>\n",
       "      <td>0.00</td>\n",
       "      <td>0.0000</td>\n",
       "      <td>0.00</td>\n",
       "      <td>0.00</td>\n",
       "      <td>300.00</td>\n",
       "    </tr>\n",
       "    <tr>\n",
       "      <th>fours</th>\n",
       "      <td>2682.0</td>\n",
       "      <td>4.330723</td>\n",
       "      <td>8.785216</td>\n",
       "      <td>0.00</td>\n",
       "      <td>0.0000</td>\n",
       "      <td>0.00</td>\n",
       "      <td>0.00</td>\n",
       "      <td>48.00</td>\n",
       "    </tr>\n",
       "    <tr>\n",
       "      <th>sixes</th>\n",
       "      <td>2682.0</td>\n",
       "      <td>0.953766</td>\n",
       "      <td>2.434082</td>\n",
       "      <td>0.00</td>\n",
       "      <td>0.0000</td>\n",
       "      <td>0.00</td>\n",
       "      <td>0.00</td>\n",
       "      <td>26.00</td>\n",
       "    </tr>\n",
       "    <tr>\n",
       "      <th>noBallRuns</th>\n",
       "      <td>2682.0</td>\n",
       "      <td>0.666294</td>\n",
       "      <td>1.089493</td>\n",
       "      <td>0.00</td>\n",
       "      <td>0.0000</td>\n",
       "      <td>0.00</td>\n",
       "      <td>1.00</td>\n",
       "      <td>13.00</td>\n",
       "    </tr>\n",
       "    <tr>\n",
       "      <th>wideRuns</th>\n",
       "      <td>2682.0</td>\n",
       "      <td>7.340418</td>\n",
       "      <td>4.462542</td>\n",
       "      <td>0.00</td>\n",
       "      <td>4.0000</td>\n",
       "      <td>7.00</td>\n",
       "      <td>10.00</td>\n",
       "      <td>37.00</td>\n",
       "    </tr>\n",
       "    <tr>\n",
       "      <th>byeRuns</th>\n",
       "      <td>2682.0</td>\n",
       "      <td>0.911633</td>\n",
       "      <td>1.690977</td>\n",
       "      <td>0.00</td>\n",
       "      <td>0.0000</td>\n",
       "      <td>0.00</td>\n",
       "      <td>1.00</td>\n",
       "      <td>13.00</td>\n",
       "    </tr>\n",
       "    <tr>\n",
       "      <th>legByeRuns</th>\n",
       "      <td>2682.0</td>\n",
       "      <td>3.388516</td>\n",
       "      <td>2.794141</td>\n",
       "      <td>0.00</td>\n",
       "      <td>1.0000</td>\n",
       "      <td>3.00</td>\n",
       "      <td>5.00</td>\n",
       "      <td>16.00</td>\n",
       "    </tr>\n",
       "    <tr>\n",
       "      <th>penaltyRuns</th>\n",
       "      <td>2682.0</td>\n",
       "      <td>0.026100</td>\n",
       "      <td>0.360370</td>\n",
       "      <td>0.00</td>\n",
       "      <td>0.0000</td>\n",
       "      <td>0.00</td>\n",
       "      <td>0.00</td>\n",
       "      <td>5.00</td>\n",
       "    </tr>\n",
       "  </tbody>\n",
       "</table>\n",
       "</div>"
      ],
      "text/plain": [
       "                count          mean           std     min        25%      50%  \\\n",
       "id             2682.0   1341.500000    774.371035    1.00   671.2500  1341.50   \n",
       "matchId        2682.0  26651.462342  38412.373645  543.00  3166.0000  6896.00   \n",
       "inningsNumber  2682.0      1.494407      0.500062    1.00     1.0000     1.00   \n",
       "runRate        2682.0      5.275459      1.174865    2.37     4.4425     5.21   \n",
       "overProgress   2682.0     43.772110      8.996007    0.40    41.0000    48.20   \n",
       "runs           2682.0    231.857196     70.897934    4.00   186.0000   233.50   \n",
       "wkts           2682.0      7.419090      2.740889    0.00     6.0000     8.00   \n",
       "ballsFaced     2682.0     58.701342    112.282896    0.00     0.0000     0.00   \n",
       "fours          2682.0      4.330723      8.785216    0.00     0.0000     0.00   \n",
       "sixes          2682.0      0.953766      2.434082    0.00     0.0000     0.00   \n",
       "noBallRuns     2682.0      0.666294      1.089493    0.00     0.0000     0.00   \n",
       "wideRuns       2682.0      7.340418      4.462542    0.00     4.0000     7.00   \n",
       "byeRuns        2682.0      0.911633      1.690977    0.00     0.0000     0.00   \n",
       "legByeRuns     2682.0      3.388516      2.794141    0.00     1.0000     3.00   \n",
       "penaltyRuns    2682.0      0.026100      0.360370    0.00     0.0000     0.00   \n",
       "\n",
       "                    75%        max  \n",
       "id              2011.75    2682.00  \n",
       "matchId        31750.00  102980.00  \n",
       "inningsNumber      2.00       2.00  \n",
       "runRate            6.00      14.16  \n",
       "overProgress      50.00      50.00  \n",
       "runs             282.00     498.00  \n",
       "wkts              10.00      11.00  \n",
       "ballsFaced         0.00     300.00  \n",
       "fours              0.00      48.00  \n",
       "sixes              0.00      26.00  \n",
       "noBallRuns         1.00      13.00  \n",
       "wideRuns          10.00      37.00  \n",
       "byeRuns            1.00      13.00  \n",
       "legByeRuns         5.00      16.00  \n",
       "penaltyRuns        0.00       5.00  "
      ]
     },
     "execution_count": 40,
     "metadata": {},
     "output_type": "execute_result"
    }
   ],
   "source": [
    "Innings.describe().T"
   ]
  },
  {
   "cell_type": "code",
   "execution_count": null,
   "id": "d91c2b64",
   "metadata": {},
   "outputs": [],
   "source": []
  },
  {
   "cell_type": "markdown",
   "id": "c96913f7",
   "metadata": {},
   "source": [
    "# Loading Venues dataset"
   ]
  },
  {
   "cell_type": "code",
   "execution_count": 41,
   "id": "f4fb5735",
   "metadata": {},
   "outputs": [
    {
     "data": {
      "text/html": [
       "<div>\n",
       "<style scoped>\n",
       "    .dataframe tbody tr th:only-of-type {\n",
       "        vertical-align: middle;\n",
       "    }\n",
       "\n",
       "    .dataframe tbody tr th {\n",
       "        vertical-align: top;\n",
       "    }\n",
       "\n",
       "    .dataframe thead th {\n",
       "        text-align: right;\n",
       "    }\n",
       "</style>\n",
       "<table border=\"1\" class=\"dataframe\">\n",
       "  <thead>\n",
       "    <tr style=\"text-align: right;\">\n",
       "      <th></th>\n",
       "      <th>id</th>\n",
       "      <th>fullName</th>\n",
       "      <th>shortName</th>\n",
       "      <th>city</th>\n",
       "      <th>country</th>\n",
       "    </tr>\n",
       "  </thead>\n",
       "  <tbody>\n",
       "    <tr>\n",
       "      <th>0</th>\n",
       "      <td>1</td>\n",
       "      <td>M. A. Chidambaram Stadium</td>\n",
       "      <td>Chidambaram</td>\n",
       "      <td>Chennai</td>\n",
       "      <td>India</td>\n",
       "    </tr>\n",
       "    <tr>\n",
       "      <th>1</th>\n",
       "      <td>2</td>\n",
       "      <td>Eden Gardens</td>\n",
       "      <td>Eden Gardens</td>\n",
       "      <td>Kolkata</td>\n",
       "      <td>India</td>\n",
       "    </tr>\n",
       "    <tr>\n",
       "      <th>2</th>\n",
       "      <td>3</td>\n",
       "      <td>Sawai Mansingh Stadium</td>\n",
       "      <td>Sawai Mansingh Stadium</td>\n",
       "      <td>Jaipur</td>\n",
       "      <td>India</td>\n",
       "    </tr>\n",
       "    <tr>\n",
       "      <th>3</th>\n",
       "      <td>4</td>\n",
       "      <td>Wankhede Stadium</td>\n",
       "      <td>Wankhede Stadium</td>\n",
       "      <td>Mumbai</td>\n",
       "      <td>India</td>\n",
       "    </tr>\n",
       "    <tr>\n",
       "      <th>4</th>\n",
       "      <td>5</td>\n",
       "      <td>M. Chinnaswamy Stadium</td>\n",
       "      <td>M. Chinnaswamy Stadium</td>\n",
       "      <td>Bengaluru</td>\n",
       "      <td>India</td>\n",
       "    </tr>\n",
       "  </tbody>\n",
       "</table>\n",
       "</div>"
      ],
      "text/plain": [
       "   id                   fullName               shortName       city country\n",
       "0   1  M. A. Chidambaram Stadium             Chidambaram    Chennai   India\n",
       "1   2               Eden Gardens            Eden Gardens    Kolkata   India\n",
       "2   3     Sawai Mansingh Stadium  Sawai Mansingh Stadium     Jaipur   India\n",
       "3   4           Wankhede Stadium        Wankhede Stadium     Mumbai   India\n",
       "4   5     M. Chinnaswamy Stadium  M. Chinnaswamy Stadium  Bengaluru   India"
      ]
     },
     "execution_count": 41,
     "metadata": {},
     "output_type": "execute_result"
    }
   ],
   "source": [
    "Venues = pd.read_csv('venues.csv')\n",
    "Venues.head()"
   ]
  },
  {
   "cell_type": "code",
   "execution_count": 42,
   "id": "65e0a86e",
   "metadata": {},
   "outputs": [
    {
     "data": {
      "text/plain": [
       "(193, 5)"
      ]
     },
     "execution_count": 42,
     "metadata": {},
     "output_type": "execute_result"
    }
   ],
   "source": [
    "Venues.shape"
   ]
  },
  {
   "cell_type": "code",
   "execution_count": 43,
   "id": "daf29bf0",
   "metadata": {},
   "outputs": [
    {
     "data": {
      "text/plain": [
       "Index(['id', 'fullName', 'shortName', 'city', 'country'], dtype='object')"
      ]
     },
     "execution_count": 43,
     "metadata": {},
     "output_type": "execute_result"
    }
   ],
   "source": [
    "Venues.columns"
   ]
  },
  {
   "cell_type": "code",
   "execution_count": 44,
   "id": "3974364c",
   "metadata": {},
   "outputs": [
    {
     "name": "stdout",
     "output_type": "stream",
     "text": [
      "<class 'pandas.core.frame.DataFrame'>\n",
      "RangeIndex: 193 entries, 0 to 192\n",
      "Data columns (total 5 columns):\n",
      " #   Column     Non-Null Count  Dtype \n",
      "---  ------     --------------  ----- \n",
      " 0   id         193 non-null    int64 \n",
      " 1   fullName   193 non-null    object\n",
      " 2   shortName  173 non-null    object\n",
      " 3   city       185 non-null    object\n",
      " 4   country    173 non-null    object\n",
      "dtypes: int64(1), object(4)\n",
      "memory usage: 7.7+ KB\n"
     ]
    }
   ],
   "source": [
    "Venues.info()"
   ]
  },
  {
   "cell_type": "code",
   "execution_count": 45,
   "id": "757a3bc9",
   "metadata": {},
   "outputs": [
    {
     "data": {
      "text/plain": [
       "id            0\n",
       "fullName      0\n",
       "shortName    20\n",
       "city          8\n",
       "country      20\n",
       "dtype: int64"
      ]
     },
     "execution_count": 45,
     "metadata": {},
     "output_type": "execute_result"
    }
   ],
   "source": [
    "Venues.isnull().sum()"
   ]
  },
  {
   "cell_type": "code",
   "execution_count": 46,
   "id": "0202615c",
   "metadata": {},
   "outputs": [],
   "source": [
    "Venues = Venues.fillna('missing')"
   ]
  },
  {
   "cell_type": "code",
   "execution_count": 47,
   "id": "f8b5a058",
   "metadata": {},
   "outputs": [
    {
     "data": {
      "text/plain": [
       "id           0\n",
       "fullName     0\n",
       "shortName    0\n",
       "city         0\n",
       "country      0\n",
       "dtype: int64"
      ]
     },
     "execution_count": 47,
     "metadata": {},
     "output_type": "execute_result"
    }
   ],
   "source": [
    "Venues.isnull().sum()"
   ]
  },
  {
   "cell_type": "code",
   "execution_count": 48,
   "id": "7c67933e",
   "metadata": {},
   "outputs": [
    {
     "data": {
      "text/html": [
       "<div>\n",
       "<style scoped>\n",
       "    .dataframe tbody tr th:only-of-type {\n",
       "        vertical-align: middle;\n",
       "    }\n",
       "\n",
       "    .dataframe tbody tr th {\n",
       "        vertical-align: top;\n",
       "    }\n",
       "\n",
       "    .dataframe thead th {\n",
       "        text-align: right;\n",
       "    }\n",
       "</style>\n",
       "<table border=\"1\" class=\"dataframe\">\n",
       "  <thead>\n",
       "    <tr style=\"text-align: right;\">\n",
       "      <th></th>\n",
       "      <th>count</th>\n",
       "      <th>mean</th>\n",
       "      <th>std</th>\n",
       "      <th>min</th>\n",
       "      <th>25%</th>\n",
       "      <th>50%</th>\n",
       "      <th>75%</th>\n",
       "      <th>max</th>\n",
       "    </tr>\n",
       "  </thead>\n",
       "  <tbody>\n",
       "    <tr>\n",
       "      <th>id</th>\n",
       "      <td>193.0</td>\n",
       "      <td>10038.813472</td>\n",
       "      <td>29833.754501</td>\n",
       "      <td>1.0</td>\n",
       "      <td>66.0</td>\n",
       "      <td>216.0</td>\n",
       "      <td>375.0</td>\n",
       "      <td>100236.0</td>\n",
       "    </tr>\n",
       "  </tbody>\n",
       "</table>\n",
       "</div>"
      ],
      "text/plain": [
       "    count          mean           std  min   25%    50%    75%       max\n",
       "id  193.0  10038.813472  29833.754501  1.0  66.0  216.0  375.0  100236.0"
      ]
     },
     "execution_count": 48,
     "metadata": {},
     "output_type": "execute_result"
    }
   ],
   "source": [
    "Venues.describe().T"
   ]
  },
  {
   "cell_type": "code",
   "execution_count": null,
   "id": "2261e103",
   "metadata": {},
   "outputs": [],
   "source": []
  },
  {
   "cell_type": "code",
   "execution_count": null,
   "id": "6355bab6",
   "metadata": {},
   "outputs": [],
   "source": []
  },
  {
   "cell_type": "markdown",
   "id": "89d8c175",
   "metadata": {},
   "source": [
    "# Loading Teams dataset"
   ]
  },
  {
   "cell_type": "code",
   "execution_count": 49,
   "id": "467da569",
   "metadata": {},
   "outputs": [
    {
     "data": {
      "text/html": [
       "<div>\n",
       "<style scoped>\n",
       "    .dataframe tbody tr th:only-of-type {\n",
       "        vertical-align: middle;\n",
       "    }\n",
       "\n",
       "    .dataframe tbody tr th {\n",
       "        vertical-align: top;\n",
       "    }\n",
       "\n",
       "    .dataframe thead th {\n",
       "        text-align: right;\n",
       "    }\n",
       "</style>\n",
       "<table border=\"1\" class=\"dataframe\">\n",
       "  <thead>\n",
       "    <tr style=\"text-align: right;\">\n",
       "      <th></th>\n",
       "      <th>id</th>\n",
       "      <th>fullName</th>\n",
       "      <th>shortName</th>\n",
       "      <th>abbreviation</th>\n",
       "      <th>wicketKeeperId</th>\n",
       "      <th>captainId</th>\n",
       "    </tr>\n",
       "  </thead>\n",
       "  <tbody>\n",
       "    <tr>\n",
       "      <th>0</th>\n",
       "      <td>11</td>\n",
       "      <td>England</td>\n",
       "      <td>England</td>\n",
       "      <td>ENG</td>\n",
       "      <td>2050.0</td>\n",
       "      <td>1988.0</td>\n",
       "    </tr>\n",
       "    <tr>\n",
       "      <th>1</th>\n",
       "      <td>11</td>\n",
       "      <td>England</td>\n",
       "      <td>England</td>\n",
       "      <td>ENG</td>\n",
       "      <td>1996.0</td>\n",
       "      <td>2004.0</td>\n",
       "    </tr>\n",
       "    <tr>\n",
       "      <th>2</th>\n",
       "      <td>11</td>\n",
       "      <td>England</td>\n",
       "      <td>England</td>\n",
       "      <td>ENG</td>\n",
       "      <td>2229.0</td>\n",
       "      <td>2096.0</td>\n",
       "    </tr>\n",
       "    <tr>\n",
       "      <th>3</th>\n",
       "      <td>11</td>\n",
       "      <td>England</td>\n",
       "      <td>England</td>\n",
       "      <td>ENG</td>\n",
       "      <td>2222.0</td>\n",
       "      <td>2226.0</td>\n",
       "    </tr>\n",
       "    <tr>\n",
       "      <th>4</th>\n",
       "      <td>11</td>\n",
       "      <td>England</td>\n",
       "      <td>England</td>\n",
       "      <td>ENG</td>\n",
       "      <td>2330.0</td>\n",
       "      <td>2169.0</td>\n",
       "    </tr>\n",
       "  </tbody>\n",
       "</table>\n",
       "</div>"
      ],
      "text/plain": [
       "   id fullName shortName abbreviation  wicketKeeperId  captainId\n",
       "0  11  England   England          ENG          2050.0     1988.0\n",
       "1  11  England   England          ENG          1996.0     2004.0\n",
       "2  11  England   England          ENG          2229.0     2096.0\n",
       "3  11  England   England          ENG          2222.0     2226.0\n",
       "4  11  England   England          ENG          2330.0     2169.0"
      ]
     },
     "execution_count": 49,
     "metadata": {},
     "output_type": "execute_result"
    }
   ],
   "source": [
    "Teams = pd.read_csv('teams.csv')\n",
    "Teams.head()"
   ]
  },
  {
   "cell_type": "code",
   "execution_count": 50,
   "id": "d7c33650",
   "metadata": {},
   "outputs": [
    {
     "data": {
      "text/plain": [
       "(354, 6)"
      ]
     },
     "execution_count": 50,
     "metadata": {},
     "output_type": "execute_result"
    }
   ],
   "source": [
    "Teams.shape"
   ]
  },
  {
   "cell_type": "code",
   "execution_count": 51,
   "id": "f7762b8b",
   "metadata": {},
   "outputs": [
    {
     "data": {
      "text/plain": [
       "Index(['id', 'fullName', 'shortName', 'abbreviation', 'wicketKeeperId',\n",
       "       'captainId'],\n",
       "      dtype='object')"
      ]
     },
     "execution_count": 51,
     "metadata": {},
     "output_type": "execute_result"
    }
   ],
   "source": [
    "Teams.columns"
   ]
  },
  {
   "cell_type": "code",
   "execution_count": 52,
   "id": "7dc84e77",
   "metadata": {},
   "outputs": [
    {
     "name": "stdout",
     "output_type": "stream",
     "text": [
      "<class 'pandas.core.frame.DataFrame'>\n",
      "RangeIndex: 354 entries, 0 to 353\n",
      "Data columns (total 6 columns):\n",
      " #   Column          Non-Null Count  Dtype  \n",
      "---  ------          --------------  -----  \n",
      " 0   id              354 non-null    int64  \n",
      " 1   fullName        354 non-null    object \n",
      " 2   shortName       354 non-null    object \n",
      " 3   abbreviation    354 non-null    object \n",
      " 4   wicketKeeperId  347 non-null    float64\n",
      " 5   captainId       348 non-null    float64\n",
      "dtypes: float64(2), int64(1), object(3)\n",
      "memory usage: 16.7+ KB\n"
     ]
    }
   ],
   "source": [
    "Teams.info()"
   ]
  },
  {
   "cell_type": "code",
   "execution_count": 53,
   "id": "a1222451",
   "metadata": {},
   "outputs": [
    {
     "data": {
      "text/plain": [
       "id                0\n",
       "fullName          0\n",
       "shortName         0\n",
       "abbreviation      0\n",
       "wicketKeeperId    7\n",
       "captainId         6\n",
       "dtype: int64"
      ]
     },
     "execution_count": 53,
     "metadata": {},
     "output_type": "execute_result"
    }
   ],
   "source": [
    "Teams.isnull().sum()"
   ]
  },
  {
   "cell_type": "code",
   "execution_count": 54,
   "id": "82978bbf",
   "metadata": {},
   "outputs": [],
   "source": [
    "Teams = Teams.fillna('missing')"
   ]
  },
  {
   "cell_type": "code",
   "execution_count": 55,
   "id": "b9298b3b",
   "metadata": {},
   "outputs": [
    {
     "data": {
      "text/plain": [
       "id                0\n",
       "fullName          0\n",
       "shortName         0\n",
       "abbreviation      0\n",
       "wicketKeeperId    0\n",
       "captainId         0\n",
       "dtype: int64"
      ]
     },
     "execution_count": 55,
     "metadata": {},
     "output_type": "execute_result"
    }
   ],
   "source": [
    "Teams.isnull().sum()"
   ]
  },
  {
   "cell_type": "code",
   "execution_count": 56,
   "id": "b517e55a",
   "metadata": {},
   "outputs": [
    {
     "data": {
      "text/html": [
       "<div>\n",
       "<style scoped>\n",
       "    .dataframe tbody tr th:only-of-type {\n",
       "        vertical-align: middle;\n",
       "    }\n",
       "\n",
       "    .dataframe tbody tr th {\n",
       "        vertical-align: top;\n",
       "    }\n",
       "\n",
       "    .dataframe thead th {\n",
       "        text-align: right;\n",
       "    }\n",
       "</style>\n",
       "<table border=\"1\" class=\"dataframe\">\n",
       "  <thead>\n",
       "    <tr style=\"text-align: right;\">\n",
       "      <th></th>\n",
       "      <th>count</th>\n",
       "      <th>mean</th>\n",
       "      <th>std</th>\n",
       "      <th>min</th>\n",
       "      <th>25%</th>\n",
       "      <th>50%</th>\n",
       "      <th>75%</th>\n",
       "      <th>max</th>\n",
       "    </tr>\n",
       "  </thead>\n",
       "  <tbody>\n",
       "    <tr>\n",
       "      <th>id</th>\n",
       "      <td>354.0</td>\n",
       "      <td>43.528249</td>\n",
       "      <td>79.05028</td>\n",
       "      <td>11.0</td>\n",
       "      <td>14.0</td>\n",
       "      <td>18.0</td>\n",
       "      <td>22.0</td>\n",
       "      <td>572.0</td>\n",
       "    </tr>\n",
       "  </tbody>\n",
       "</table>\n",
       "</div>"
      ],
      "text/plain": [
       "    count       mean       std   min   25%   50%   75%    max\n",
       "id  354.0  43.528249  79.05028  11.0  14.0  18.0  22.0  572.0"
      ]
     },
     "execution_count": 56,
     "metadata": {},
     "output_type": "execute_result"
    }
   ],
   "source": [
    "Teams.describe().T"
   ]
  },
  {
   "cell_type": "code",
   "execution_count": null,
   "id": "70c04834",
   "metadata": {},
   "outputs": [],
   "source": []
  },
  {
   "cell_type": "code",
   "execution_count": null,
   "id": "188cf6e6",
   "metadata": {},
   "outputs": [],
   "source": []
  },
  {
   "cell_type": "markdown",
   "id": "5db552bb",
   "metadata": {},
   "source": [
    "# Loading Players dataset"
   ]
  },
  {
   "cell_type": "code",
   "execution_count": 57,
   "id": "21b52a42",
   "metadata": {},
   "outputs": [
    {
     "data": {
      "text/html": [
       "<div>\n",
       "<style scoped>\n",
       "    .dataframe tbody tr th:only-of-type {\n",
       "        vertical-align: middle;\n",
       "    }\n",
       "\n",
       "    .dataframe tbody tr th {\n",
       "        vertical-align: top;\n",
       "    }\n",
       "\n",
       "    .dataframe thead th {\n",
       "        text-align: right;\n",
       "    }\n",
       "</style>\n",
       "<table border=\"1\" class=\"dataframe\">\n",
       "  <thead>\n",
       "    <tr style=\"text-align: right;\">\n",
       "      <th></th>\n",
       "      <th>id</th>\n",
       "      <th>fullName</th>\n",
       "      <th>shortName</th>\n",
       "      <th>nationality</th>\n",
       "      <th>dateOfBirth</th>\n",
       "      <th>rightArmedBowl</th>\n",
       "      <th>rightHandedBat</th>\n",
       "      <th>bowlingStyle</th>\n",
       "      <th>teamId</th>\n",
       "    </tr>\n",
       "  </thead>\n",
       "  <tbody>\n",
       "    <tr>\n",
       "      <th>0</th>\n",
       "      <td>2065</td>\n",
       "      <td>Rick McCosker</td>\n",
       "      <td>RB McCosker</td>\n",
       "      <td>Australian</td>\n",
       "      <td>1946-12-11</td>\n",
       "      <td>False</td>\n",
       "      <td>True</td>\n",
       "      <td>NaN</td>\n",
       "      <td>2808</td>\n",
       "    </tr>\n",
       "    <tr>\n",
       "      <th>1</th>\n",
       "      <td>2114</td>\n",
       "      <td>Alan Turner</td>\n",
       "      <td>A Turner</td>\n",
       "      <td>Australian</td>\n",
       "      <td>1950-07-23</td>\n",
       "      <td>False</td>\n",
       "      <td>True</td>\n",
       "      <td>NaN</td>\n",
       "      <td>2808</td>\n",
       "    </tr>\n",
       "    <tr>\n",
       "      <th>2</th>\n",
       "      <td>2083</td>\n",
       "      <td>Greg Chappell</td>\n",
       "      <td>G Chappell</td>\n",
       "      <td>Australian</td>\n",
       "      <td>1948-08-07</td>\n",
       "      <td>True</td>\n",
       "      <td>True</td>\n",
       "      <td>MEDIUM_SEAM</td>\n",
       "      <td>2808</td>\n",
       "    </tr>\n",
       "    <tr>\n",
       "      <th>3</th>\n",
       "      <td>2115</td>\n",
       "      <td>Jeff Thomson</td>\n",
       "      <td>J Thomson</td>\n",
       "      <td>Australian</td>\n",
       "      <td>1950-08-16</td>\n",
       "      <td>True</td>\n",
       "      <td>True</td>\n",
       "      <td>FAST_SEAM</td>\n",
       "      <td>2808</td>\n",
       "    </tr>\n",
       "    <tr>\n",
       "      <th>4</th>\n",
       "      <td>2020</td>\n",
       "      <td>Ian Chappell</td>\n",
       "      <td>I Chappell</td>\n",
       "      <td>Australian</td>\n",
       "      <td>1943-09-26</td>\n",
       "      <td>True</td>\n",
       "      <td>True</td>\n",
       "      <td>LEG_SPIN</td>\n",
       "      <td>2808</td>\n",
       "    </tr>\n",
       "  </tbody>\n",
       "</table>\n",
       "</div>"
      ],
      "text/plain": [
       "     id       fullName    shortName nationality dateOfBirth  rightArmedBowl  \\\n",
       "0  2065  Rick McCosker  RB McCosker  Australian  1946-12-11           False   \n",
       "1  2114    Alan Turner     A Turner  Australian  1950-07-23           False   \n",
       "2  2083  Greg Chappell   G Chappell  Australian  1948-08-07            True   \n",
       "3  2115   Jeff Thomson    J Thomson  Australian  1950-08-16            True   \n",
       "4  2020   Ian Chappell   I Chappell  Australian  1943-09-26            True   \n",
       "\n",
       "   rightHandedBat bowlingStyle  teamId  \n",
       "0            True          NaN    2808  \n",
       "1            True          NaN    2808  \n",
       "2            True  MEDIUM_SEAM    2808  \n",
       "3            True    FAST_SEAM    2808  \n",
       "4            True     LEG_SPIN    2808  "
      ]
     },
     "execution_count": 57,
     "metadata": {},
     "output_type": "execute_result"
    }
   ],
   "source": [
    "Players = pd.read_csv('players.csv')\n",
    "Players.head()"
   ]
  },
  {
   "cell_type": "code",
   "execution_count": 58,
   "id": "899595e6",
   "metadata": {},
   "outputs": [
    {
     "data": {
      "text/plain": [
       "(28911, 9)"
      ]
     },
     "execution_count": 58,
     "metadata": {},
     "output_type": "execute_result"
    }
   ],
   "source": [
    "Players.shape"
   ]
  },
  {
   "cell_type": "code",
   "execution_count": 59,
   "id": "d4a6a24a",
   "metadata": {},
   "outputs": [
    {
     "data": {
      "text/plain": [
       "Index(['id', 'fullName', 'shortName', 'nationality', 'dateOfBirth',\n",
       "       'rightArmedBowl', 'rightHandedBat', 'bowlingStyle', 'teamId'],\n",
       "      dtype='object')"
      ]
     },
     "execution_count": 59,
     "metadata": {},
     "output_type": "execute_result"
    }
   ],
   "source": [
    "Players.columns"
   ]
  },
  {
   "cell_type": "code",
   "execution_count": 60,
   "id": "8f9e7881",
   "metadata": {},
   "outputs": [
    {
     "name": "stdout",
     "output_type": "stream",
     "text": [
      "<class 'pandas.core.frame.DataFrame'>\n",
      "RangeIndex: 28911 entries, 0 to 28910\n",
      "Data columns (total 9 columns):\n",
      " #   Column          Non-Null Count  Dtype \n",
      "---  ------          --------------  ----- \n",
      " 0   id              28911 non-null  int64 \n",
      " 1   fullName        28911 non-null  object\n",
      " 2   shortName       28911 non-null  object\n",
      " 3   nationality     28249 non-null  object\n",
      " 4   dateOfBirth     28349 non-null  object\n",
      " 5   rightArmedBowl  28911 non-null  bool  \n",
      " 6   rightHandedBat  28911 non-null  bool  \n",
      " 7   bowlingStyle    18328 non-null  object\n",
      " 8   teamId          28911 non-null  int64 \n",
      "dtypes: bool(2), int64(2), object(5)\n",
      "memory usage: 1.6+ MB\n"
     ]
    }
   ],
   "source": [
    "Players.info()"
   ]
  },
  {
   "cell_type": "code",
   "execution_count": 61,
   "id": "c260c396",
   "metadata": {},
   "outputs": [
    {
     "data": {
      "text/plain": [
       "id                    0\n",
       "fullName              0\n",
       "shortName             0\n",
       "nationality         662\n",
       "dateOfBirth         562\n",
       "rightArmedBowl        0\n",
       "rightHandedBat        0\n",
       "bowlingStyle      10583\n",
       "teamId                0\n",
       "dtype: int64"
      ]
     },
     "execution_count": 61,
     "metadata": {},
     "output_type": "execute_result"
    }
   ],
   "source": [
    "Players.isnull().sum()"
   ]
  },
  {
   "cell_type": "code",
   "execution_count": 62,
   "id": "4695dc12",
   "metadata": {},
   "outputs": [],
   "source": [
    "Players = Players.fillna('missing')"
   ]
  },
  {
   "cell_type": "code",
   "execution_count": 63,
   "id": "4827617d",
   "metadata": {},
   "outputs": [
    {
     "data": {
      "text/plain": [
       "id                0\n",
       "fullName          0\n",
       "shortName         0\n",
       "nationality       0\n",
       "dateOfBirth       0\n",
       "rightArmedBowl    0\n",
       "rightHandedBat    0\n",
       "bowlingStyle      0\n",
       "teamId            0\n",
       "dtype: int64"
      ]
     },
     "execution_count": 63,
     "metadata": {},
     "output_type": "execute_result"
    }
   ],
   "source": [
    "Players.isnull().sum()"
   ]
  },
  {
   "cell_type": "code",
   "execution_count": 64,
   "id": "5b81fb12",
   "metadata": {},
   "outputs": [
    {
     "data": {
      "text/html": [
       "<div>\n",
       "<style scoped>\n",
       "    .dataframe tbody tr th:only-of-type {\n",
       "        vertical-align: middle;\n",
       "    }\n",
       "\n",
       "    .dataframe tbody tr th {\n",
       "        vertical-align: top;\n",
       "    }\n",
       "\n",
       "    .dataframe thead th {\n",
       "        text-align: right;\n",
       "    }\n",
       "</style>\n",
       "<table border=\"1\" class=\"dataframe\">\n",
       "  <thead>\n",
       "    <tr style=\"text-align: right;\">\n",
       "      <th></th>\n",
       "      <th>count</th>\n",
       "      <th>mean</th>\n",
       "      <th>std</th>\n",
       "      <th>min</th>\n",
       "      <th>25%</th>\n",
       "      <th>50%</th>\n",
       "      <th>75%</th>\n",
       "      <th>max</th>\n",
       "    </tr>\n",
       "  </thead>\n",
       "  <tbody>\n",
       "    <tr>\n",
       "      <th>id</th>\n",
       "      <td>28911.0</td>\n",
       "      <td>1.174326e+04</td>\n",
       "      <td>8.996508e+04</td>\n",
       "      <td>1.0</td>\n",
       "      <td>391.0</td>\n",
       "      <td>1075.0</td>\n",
       "      <td>2293.0</td>\n",
       "      <td>1.277627e+06</td>\n",
       "    </tr>\n",
       "    <tr>\n",
       "      <th>teamId</th>\n",
       "      <td>28911.0</td>\n",
       "      <td>1.728285e+07</td>\n",
       "      <td>1.528526e+08</td>\n",
       "      <td>11.0</td>\n",
       "      <td>2997.0</td>\n",
       "      <td>3882.0</td>\n",
       "      <td>10223.5</td>\n",
       "      <td>2.147212e+09</td>\n",
       "    </tr>\n",
       "  </tbody>\n",
       "</table>\n",
       "</div>"
      ],
      "text/plain": [
       "          count          mean           std   min     25%     50%      75%  \\\n",
       "id      28911.0  1.174326e+04  8.996508e+04   1.0   391.0  1075.0   2293.0   \n",
       "teamId  28911.0  1.728285e+07  1.528526e+08  11.0  2997.0  3882.0  10223.5   \n",
       "\n",
       "                 max  \n",
       "id      1.277627e+06  \n",
       "teamId  2.147212e+09  "
      ]
     },
     "execution_count": 64,
     "metadata": {},
     "output_type": "execute_result"
    }
   ],
   "source": [
    "Players.describe().T"
   ]
  },
  {
   "cell_type": "code",
   "execution_count": null,
   "id": "246b29c6",
   "metadata": {},
   "outputs": [],
   "source": []
  },
  {
   "cell_type": "markdown",
   "id": "6af28f3d",
   "metadata": {},
   "source": [
    "# Loading Over History "
   ]
  },
  {
   "cell_type": "code",
   "execution_count": 65,
   "id": "c36181f9",
   "metadata": {},
   "outputs": [
    {
     "data": {
      "text/html": [
       "<div>\n",
       "<style scoped>\n",
       "    .dataframe tbody tr th:only-of-type {\n",
       "        vertical-align: middle;\n",
       "    }\n",
       "\n",
       "    .dataframe tbody tr th {\n",
       "        vertical-align: top;\n",
       "    }\n",
       "\n",
       "    .dataframe thead th {\n",
       "        text-align: right;\n",
       "    }\n",
       "</style>\n",
       "<table border=\"1\" class=\"dataframe\">\n",
       "  <thead>\n",
       "    <tr style=\"text-align: right;\">\n",
       "      <th></th>\n",
       "      <th>ovNo</th>\n",
       "      <th>ovBalls/0</th>\n",
       "      <th>ovBalls/1</th>\n",
       "      <th>ovBalls/2</th>\n",
       "      <th>ovBalls/3</th>\n",
       "      <th>ovBalls/4</th>\n",
       "      <th>ovBalls/5</th>\n",
       "      <th>ovBalls/6</th>\n",
       "      <th>id</th>\n",
       "      <th>inningId</th>\n",
       "      <th>ovBalls/7</th>\n",
       "      <th>ovBalls/8</th>\n",
       "      <th>ovBalls/9</th>\n",
       "      <th>ovBalls/10</th>\n",
       "      <th>ovBalls/11</th>\n",
       "      <th>ovBalls/12</th>\n",
       "      <th>ovBalls/13</th>\n",
       "      <th>bowlerId</th>\n",
       "    </tr>\n",
       "  </thead>\n",
       "  <tbody>\n",
       "    <tr>\n",
       "      <th>0</th>\n",
       "      <td>1</td>\n",
       "      <td>1</td>\n",
       "      <td>.</td>\n",
       "      <td>.</td>\n",
       "      <td>.</td>\n",
       "      <td>1Wd</td>\n",
       "      <td>.</td>\n",
       "      <td>1</td>\n",
       "      <td>1</td>\n",
       "      <td>1</td>\n",
       "      <td>NaN</td>\n",
       "      <td>NaN</td>\n",
       "      <td>NaN</td>\n",
       "      <td>NaN</td>\n",
       "      <td>NaN</td>\n",
       "      <td>NaN</td>\n",
       "      <td>NaN</td>\n",
       "      <td>NaN</td>\n",
       "    </tr>\n",
       "    <tr>\n",
       "      <th>1</th>\n",
       "      <td>2</td>\n",
       "      <td>1</td>\n",
       "      <td>.</td>\n",
       "      <td>.</td>\n",
       "      <td>.</td>\n",
       "      <td>1</td>\n",
       "      <td>1</td>\n",
       "      <td>NaN</td>\n",
       "      <td>2</td>\n",
       "      <td>1</td>\n",
       "      <td>NaN</td>\n",
       "      <td>NaN</td>\n",
       "      <td>NaN</td>\n",
       "      <td>NaN</td>\n",
       "      <td>NaN</td>\n",
       "      <td>NaN</td>\n",
       "      <td>NaN</td>\n",
       "      <td>NaN</td>\n",
       "    </tr>\n",
       "    <tr>\n",
       "      <th>2</th>\n",
       "      <td>3</td>\n",
       "      <td>1</td>\n",
       "      <td>W</td>\n",
       "      <td>1</td>\n",
       "      <td>.</td>\n",
       "      <td>1Nb</td>\n",
       "      <td>.</td>\n",
       "      <td>.</td>\n",
       "      <td>3</td>\n",
       "      <td>1</td>\n",
       "      <td>NaN</td>\n",
       "      <td>NaN</td>\n",
       "      <td>NaN</td>\n",
       "      <td>NaN</td>\n",
       "      <td>NaN</td>\n",
       "      <td>NaN</td>\n",
       "      <td>NaN</td>\n",
       "      <td>NaN</td>\n",
       "    </tr>\n",
       "    <tr>\n",
       "      <th>3</th>\n",
       "      <td>4</td>\n",
       "      <td>4</td>\n",
       "      <td>1Nb</td>\n",
       "      <td>.</td>\n",
       "      <td>.</td>\n",
       "      <td>.</td>\n",
       "      <td>4</td>\n",
       "      <td>.</td>\n",
       "      <td>4</td>\n",
       "      <td>1</td>\n",
       "      <td>NaN</td>\n",
       "      <td>NaN</td>\n",
       "      <td>NaN</td>\n",
       "      <td>NaN</td>\n",
       "      <td>NaN</td>\n",
       "      <td>NaN</td>\n",
       "      <td>NaN</td>\n",
       "      <td>NaN</td>\n",
       "    </tr>\n",
       "    <tr>\n",
       "      <th>4</th>\n",
       "      <td>5</td>\n",
       "      <td>.</td>\n",
       "      <td>.</td>\n",
       "      <td>4</td>\n",
       "      <td>.</td>\n",
       "      <td>.</td>\n",
       "      <td>.</td>\n",
       "      <td>NaN</td>\n",
       "      <td>5</td>\n",
       "      <td>1</td>\n",
       "      <td>NaN</td>\n",
       "      <td>NaN</td>\n",
       "      <td>NaN</td>\n",
       "      <td>NaN</td>\n",
       "      <td>NaN</td>\n",
       "      <td>NaN</td>\n",
       "      <td>NaN</td>\n",
       "      <td>NaN</td>\n",
       "    </tr>\n",
       "  </tbody>\n",
       "</table>\n",
       "</div>"
      ],
      "text/plain": [
       "   ovNo ovBalls/0 ovBalls/1 ovBalls/2 ovBalls/3 ovBalls/4 ovBalls/5 ovBalls/6  \\\n",
       "0     1         1         .         .         .       1Wd         .         1   \n",
       "1     2         1         .         .         .         1         1       NaN   \n",
       "2     3         1         W         1         .       1Nb         .         .   \n",
       "3     4         4       1Nb         .         .         .         4         .   \n",
       "4     5         .         .         4         .         .         .       NaN   \n",
       "\n",
       "   id  inningId ovBalls/7 ovBalls/8 ovBalls/9 ovBalls/10 ovBalls/11  \\\n",
       "0   1         1       NaN       NaN       NaN        NaN        NaN   \n",
       "1   2         1       NaN       NaN       NaN        NaN        NaN   \n",
       "2   3         1       NaN       NaN       NaN        NaN        NaN   \n",
       "3   4         1       NaN       NaN       NaN        NaN        NaN   \n",
       "4   5         1       NaN       NaN       NaN        NaN        NaN   \n",
       "\n",
       "  ovBalls/12 ovBalls/13  bowlerId  \n",
       "0        NaN        NaN       NaN  \n",
       "1        NaN        NaN       NaN  \n",
       "2        NaN        NaN       NaN  \n",
       "3        NaN        NaN       NaN  \n",
       "4        NaN        NaN       NaN  "
      ]
     },
     "execution_count": 65,
     "metadata": {},
     "output_type": "execute_result"
    }
   ],
   "source": [
    "Over_history = pd.read_csv('overHistory.csv')\n",
    "Over_history.head()"
   ]
  },
  {
   "cell_type": "code",
   "execution_count": 66,
   "id": "4ee4d747",
   "metadata": {},
   "outputs": [
    {
     "data": {
      "text/plain": [
       "(110411, 18)"
      ]
     },
     "execution_count": 66,
     "metadata": {},
     "output_type": "execute_result"
    }
   ],
   "source": [
    "Over_history.shape"
   ]
  },
  {
   "cell_type": "code",
   "execution_count": 67,
   "id": "a48c1e12",
   "metadata": {},
   "outputs": [
    {
     "data": {
      "text/plain": [
       "Index(['ovNo', 'ovBalls/0', 'ovBalls/1', 'ovBalls/2', 'ovBalls/3', 'ovBalls/4',\n",
       "       'ovBalls/5', 'ovBalls/6', 'id', 'inningId', 'ovBalls/7', 'ovBalls/8',\n",
       "       'ovBalls/9', 'ovBalls/10', 'ovBalls/11', 'ovBalls/12', 'ovBalls/13',\n",
       "       'bowlerId'],\n",
       "      dtype='object')"
      ]
     },
     "execution_count": 67,
     "metadata": {},
     "output_type": "execute_result"
    }
   ],
   "source": [
    "Over_history.columns"
   ]
  },
  {
   "cell_type": "code",
   "execution_count": 68,
   "id": "674ce885",
   "metadata": {},
   "outputs": [
    {
     "name": "stdout",
     "output_type": "stream",
     "text": [
      "<class 'pandas.core.frame.DataFrame'>\n",
      "RangeIndex: 110411 entries, 0 to 110410\n",
      "Data columns (total 18 columns):\n",
      " #   Column      Non-Null Count   Dtype  \n",
      "---  ------      --------------   -----  \n",
      " 0   ovNo        110411 non-null  int64  \n",
      " 1   ovBalls/0   110411 non-null  object \n",
      " 2   ovBalls/1   110164 non-null  object \n",
      " 3   ovBalls/2   109906 non-null  object \n",
      " 4   ovBalls/3   109665 non-null  object \n",
      " 5   ovBalls/4   109405 non-null  object \n",
      " 6   ovBalls/5   108996 non-null  object \n",
      " 7   ovBalls/6   14563 non-null   object \n",
      " 8   id          110411 non-null  int64  \n",
      " 9   inningId    110411 non-null  int64  \n",
      " 10  ovBalls/7   1998 non-null    object \n",
      " 11  ovBalls/8   278 non-null     object \n",
      " 12  ovBalls/9   45 non-null      object \n",
      " 13  ovBalls/10  9 non-null       object \n",
      " 14  ovBalls/11  2 non-null       object \n",
      " 15  ovBalls/12  1 non-null       object \n",
      " 16  ovBalls/13  1 non-null       object \n",
      " 17  bowlerId    25729 non-null   float64\n",
      "dtypes: float64(1), int64(3), object(14)\n",
      "memory usage: 15.2+ MB\n"
     ]
    }
   ],
   "source": [
    "Over_history.info()"
   ]
  },
  {
   "cell_type": "code",
   "execution_count": 69,
   "id": "5d5fc837",
   "metadata": {},
   "outputs": [
    {
     "data": {
      "text/plain": [
       "ovNo               0\n",
       "ovBalls/0          0\n",
       "ovBalls/1        247\n",
       "ovBalls/2        505\n",
       "ovBalls/3        746\n",
       "ovBalls/4       1006\n",
       "ovBalls/5       1415\n",
       "ovBalls/6      95848\n",
       "id                 0\n",
       "inningId           0\n",
       "ovBalls/7     108413\n",
       "ovBalls/8     110133\n",
       "ovBalls/9     110366\n",
       "ovBalls/10    110402\n",
       "ovBalls/11    110409\n",
       "ovBalls/12    110410\n",
       "ovBalls/13    110410\n",
       "bowlerId       84682\n",
       "dtype: int64"
      ]
     },
     "execution_count": 69,
     "metadata": {},
     "output_type": "execute_result"
    }
   ],
   "source": [
    "Over_history.isnull().sum()"
   ]
  },
  {
   "cell_type": "code",
   "execution_count": 70,
   "id": "ec51b65d",
   "metadata": {},
   "outputs": [],
   "source": [
    "col_to_process = ['ovBalls/0', 'ovBalls/1', 'ovBalls/2', 'ovBalls/3','ovBalls/4', 'ovBalls/5', 'ovBalls/6']"
   ]
  },
  {
   "cell_type": "code",
   "execution_count": 71,
   "id": "23376396",
   "metadata": {},
   "outputs": [],
   "source": [
    "for column in col_to_process:\n",
    "    Over_history[column] = pd.to_numeric(Over_history[column], errors='coerce')\n",
    "    mean_value = Over_history[column].mean()\n",
    "    Over_history[column].fillna(mean_value, inplace=True)"
   ]
  },
  {
   "cell_type": "code",
   "execution_count": 72,
   "id": "3919c4e6",
   "metadata": {},
   "outputs": [],
   "source": [
    "col_to_process = ['ovBalls/7', 'ovBalls/8', 'ovBalls/9', 'ovBalls/10', 'ovBalls/11', 'ovBalls/12', 'ovBalls/13', 'ovBalls/6']"
   ]
  },
  {
   "cell_type": "code",
   "execution_count": 73,
   "id": "9dca01b4",
   "metadata": {},
   "outputs": [],
   "source": [
    "#filling missing values"
   ]
  },
  {
   "cell_type": "code",
   "execution_count": 74,
   "id": "b6f0a097",
   "metadata": {},
   "outputs": [],
   "source": [
    "for column in col_to_process:\n",
    "    Over_history[column] = pd.to_numeric(Over_history[column], errors='coerce')\n",
    "    mean_value =Over_history[column].mean()\n",
    "    Over_history[column].fillna(mean_value, inplace=True)"
   ]
  },
  {
   "cell_type": "code",
   "execution_count": 75,
   "id": "79dc9e74",
   "metadata": {},
   "outputs": [
    {
     "data": {
      "text/plain": [
       "ovNo               0\n",
       "ovBalls/0          0\n",
       "ovBalls/1          0\n",
       "ovBalls/2          0\n",
       "ovBalls/3          0\n",
       "ovBalls/4          0\n",
       "ovBalls/5          0\n",
       "ovBalls/6          0\n",
       "id                 0\n",
       "inningId           0\n",
       "ovBalls/7          0\n",
       "ovBalls/8          0\n",
       "ovBalls/9          0\n",
       "ovBalls/10         0\n",
       "ovBalls/11    110411\n",
       "ovBalls/12    110411\n",
       "ovBalls/13    110411\n",
       "bowlerId       84682\n",
       "dtype: int64"
      ]
     },
     "execution_count": 75,
     "metadata": {},
     "output_type": "execute_result"
    }
   ],
   "source": [
    "Over_history.isnull().sum()"
   ]
  },
  {
   "cell_type": "code",
   "execution_count": 76,
   "id": "68b50696",
   "metadata": {},
   "outputs": [],
   "source": [
    "col_to_process = ['ovBalls/11', 'ovBalls/12', 'ovBalls/13']"
   ]
  },
  {
   "cell_type": "code",
   "execution_count": 77,
   "id": "409cbe30",
   "metadata": {},
   "outputs": [],
   "source": [
    "for column in col_to_process:\n",
    "    Over_history[column] = pd.to_numeric(Over_history[column], errors='coerce')\n",
    "    mean_value =Over_history[column].mean()\n",
    "    Over_history[column].fillna(mean_value, inplace=True)"
   ]
  },
  {
   "cell_type": "code",
   "execution_count": 78,
   "id": "80cab427",
   "metadata": {},
   "outputs": [
    {
     "data": {
      "text/plain": [
       "ovNo             0.00\n",
       "ovBalls/0        0.00\n",
       "ovBalls/1        0.00\n",
       "ovBalls/2        0.00\n",
       "ovBalls/3        0.00\n",
       "ovBalls/4        0.00\n",
       "ovBalls/5        0.00\n",
       "ovBalls/6        0.00\n",
       "id               0.00\n",
       "inningId         0.00\n",
       "ovBalls/7        0.00\n",
       "ovBalls/8        0.00\n",
       "ovBalls/9        0.00\n",
       "ovBalls/10       0.00\n",
       "ovBalls/11    1104.11\n",
       "ovBalls/12    1104.11\n",
       "ovBalls/13    1104.11\n",
       "bowlerId       846.82\n",
       "dtype: float64"
      ]
     },
     "execution_count": 78,
     "metadata": {},
     "output_type": "execute_result"
    }
   ],
   "source": [
    "Over_history.isnull().sum()/100"
   ]
  },
  {
   "cell_type": "code",
   "execution_count": 79,
   "id": "128b4d6a",
   "metadata": {},
   "outputs": [],
   "source": [
    "Over_history.drop (['ovBalls/12'], axis=1, inplace=True)"
   ]
  },
  {
   "cell_type": "code",
   "execution_count": 80,
   "id": "18da38c0",
   "metadata": {},
   "outputs": [],
   "source": [
    "Over_history.drop (['ovBalls/11'], axis=1, inplace=True)"
   ]
  },
  {
   "cell_type": "code",
   "execution_count": 81,
   "id": "89c4b221",
   "metadata": {},
   "outputs": [],
   "source": [
    "Over_history.drop (['ovBalls/13'], axis=1, inplace=True)"
   ]
  },
  {
   "cell_type": "code",
   "execution_count": 82,
   "id": "8c2c9136",
   "metadata": {},
   "outputs": [
    {
     "data": {
      "text/plain": [
       "ovNo            0.00\n",
       "ovBalls/0       0.00\n",
       "ovBalls/1       0.00\n",
       "ovBalls/2       0.00\n",
       "ovBalls/3       0.00\n",
       "ovBalls/4       0.00\n",
       "ovBalls/5       0.00\n",
       "ovBalls/6       0.00\n",
       "id              0.00\n",
       "inningId        0.00\n",
       "ovBalls/7       0.00\n",
       "ovBalls/8       0.00\n",
       "ovBalls/9       0.00\n",
       "ovBalls/10      0.00\n",
       "bowlerId      846.82\n",
       "dtype: float64"
      ]
     },
     "execution_count": 82,
     "metadata": {},
     "output_type": "execute_result"
    }
   ],
   "source": [
    "Over_history.isnull().sum()/100"
   ]
  },
  {
   "cell_type": "code",
   "execution_count": 83,
   "id": "89d63af0",
   "metadata": {},
   "outputs": [],
   "source": [
    "#Shall look for bowlerId in combine analysis "
   ]
  },
  {
   "cell_type": "code",
   "execution_count": 84,
   "id": "e71473b0",
   "metadata": {},
   "outputs": [],
   "source": [
    "Over_history.dropna(subset=['bowlerId'], inplace=True)"
   ]
  },
  {
   "cell_type": "code",
   "execution_count": 85,
   "id": "23bdcf0c",
   "metadata": {},
   "outputs": [
    {
     "data": {
      "text/plain": [
       "ovNo          0.0\n",
       "ovBalls/0     0.0\n",
       "ovBalls/1     0.0\n",
       "ovBalls/2     0.0\n",
       "ovBalls/3     0.0\n",
       "ovBalls/4     0.0\n",
       "ovBalls/5     0.0\n",
       "ovBalls/6     0.0\n",
       "id            0.0\n",
       "inningId      0.0\n",
       "ovBalls/7     0.0\n",
       "ovBalls/8     0.0\n",
       "ovBalls/9     0.0\n",
       "ovBalls/10    0.0\n",
       "bowlerId      0.0\n",
       "dtype: float64"
      ]
     },
     "execution_count": 85,
     "metadata": {},
     "output_type": "execute_result"
    }
   ],
   "source": [
    "Over_history.isnull().sum()/100"
   ]
  },
  {
   "cell_type": "markdown",
   "id": "9f8d6354",
   "metadata": {},
   "source": [
    "# Loading Over Balls dataset"
   ]
  },
  {
   "cell_type": "code",
   "execution_count": 86,
   "id": "facf486b",
   "metadata": {},
   "outputs": [
    {
     "data": {
      "text/html": [
       "<div>\n",
       "<style scoped>\n",
       "    .dataframe tbody tr th:only-of-type {\n",
       "        vertical-align: middle;\n",
       "    }\n",
       "\n",
       "    .dataframe tbody tr th {\n",
       "        vertical-align: top;\n",
       "    }\n",
       "\n",
       "    .dataframe thead th {\n",
       "        text-align: right;\n",
       "    }\n",
       "</style>\n",
       "<table border=\"1\" class=\"dataframe\">\n",
       "  <thead>\n",
       "    <tr style=\"text-align: right;\">\n",
       "      <th></th>\n",
       "      <th>id</th>\n",
       "      <th>countingBall</th>\n",
       "      <th>nonCountingBall</th>\n",
       "      <th>score</th>\n",
       "      <th>bowlerId</th>\n",
       "      <th>facingBatsmanId</th>\n",
       "      <th>boundary</th>\n",
       "      <th>overHistoryId</th>\n",
       "    </tr>\n",
       "  </thead>\n",
       "  <tbody>\n",
       "    <tr>\n",
       "      <th>0</th>\n",
       "      <td>1</td>\n",
       "      <td>1</td>\n",
       "      <td>1</td>\n",
       "      <td>1</td>\n",
       "      <td>5591.0</td>\n",
       "      <td>1220.0</td>\n",
       "      <td>False</td>\n",
       "      <td>84666</td>\n",
       "    </tr>\n",
       "    <tr>\n",
       "      <th>1</th>\n",
       "      <td>2</td>\n",
       "      <td>2</td>\n",
       "      <td>2</td>\n",
       "      <td>.</td>\n",
       "      <td>5591.0</td>\n",
       "      <td>1601.0</td>\n",
       "      <td>False</td>\n",
       "      <td>84666</td>\n",
       "    </tr>\n",
       "    <tr>\n",
       "      <th>2</th>\n",
       "      <td>3</td>\n",
       "      <td>3</td>\n",
       "      <td>3</td>\n",
       "      <td>.</td>\n",
       "      <td>5591.0</td>\n",
       "      <td>1601.0</td>\n",
       "      <td>False</td>\n",
       "      <td>84666</td>\n",
       "    </tr>\n",
       "    <tr>\n",
       "      <th>3</th>\n",
       "      <td>4</td>\n",
       "      <td>4</td>\n",
       "      <td>4</td>\n",
       "      <td>1Wd</td>\n",
       "      <td>5591.0</td>\n",
       "      <td>1601.0</td>\n",
       "      <td>False</td>\n",
       "      <td>84666</td>\n",
       "    </tr>\n",
       "    <tr>\n",
       "      <th>4</th>\n",
       "      <td>5</td>\n",
       "      <td>4</td>\n",
       "      <td>5</td>\n",
       "      <td>.</td>\n",
       "      <td>5591.0</td>\n",
       "      <td>1601.0</td>\n",
       "      <td>False</td>\n",
       "      <td>84666</td>\n",
       "    </tr>\n",
       "  </tbody>\n",
       "</table>\n",
       "</div>"
      ],
      "text/plain": [
       "   id  countingBall  nonCountingBall score  bowlerId  facingBatsmanId  \\\n",
       "0   1             1                1     1    5591.0           1220.0   \n",
       "1   2             2                2     .    5591.0           1601.0   \n",
       "2   3             3                3     .    5591.0           1601.0   \n",
       "3   4             4                4   1Wd    5591.0           1601.0   \n",
       "4   5             4                5     .    5591.0           1601.0   \n",
       "\n",
       "   boundary  overHistoryId  \n",
       "0     False          84666  \n",
       "1     False          84666  \n",
       "2     False          84666  \n",
       "3     False          84666  \n",
       "4     False          84666  "
      ]
     },
     "execution_count": 86,
     "metadata": {},
     "output_type": "execute_result"
    }
   ],
   "source": [
    "Over_Balls = pd.read_csv('overBallDetails.csv')\n",
    "Over_Balls.head()"
   ]
  },
  {
   "cell_type": "code",
   "execution_count": 87,
   "id": "1a0fee46",
   "metadata": {},
   "outputs": [
    {
     "data": {
      "text/plain": [
       "(157323, 8)"
      ]
     },
     "execution_count": 87,
     "metadata": {},
     "output_type": "execute_result"
    }
   ],
   "source": [
    "Over_Balls.shape"
   ]
  },
  {
   "cell_type": "code",
   "execution_count": 88,
   "id": "0f2630bf",
   "metadata": {},
   "outputs": [
    {
     "data": {
      "text/plain": [
       "Index(['id', 'countingBall', 'nonCountingBall', 'score', 'bowlerId',\n",
       "       'facingBatsmanId', 'boundary', 'overHistoryId'],\n",
       "      dtype='object')"
      ]
     },
     "execution_count": 88,
     "metadata": {},
     "output_type": "execute_result"
    }
   ],
   "source": [
    "Over_Balls.columns"
   ]
  },
  {
   "cell_type": "code",
   "execution_count": 89,
   "id": "3a099a09",
   "metadata": {},
   "outputs": [
    {
     "name": "stdout",
     "output_type": "stream",
     "text": [
      "<class 'pandas.core.frame.DataFrame'>\n",
      "RangeIndex: 157323 entries, 0 to 157322\n",
      "Data columns (total 8 columns):\n",
      " #   Column           Non-Null Count   Dtype  \n",
      "---  ------           --------------   -----  \n",
      " 0   id               157323 non-null  int64  \n",
      " 1   countingBall     157323 non-null  int64  \n",
      " 2   nonCountingBall  157323 non-null  int64  \n",
      " 3   score            157323 non-null  object \n",
      " 4   bowlerId         157222 non-null  float64\n",
      " 5   facingBatsmanId  157320 non-null  float64\n",
      " 6   boundary         157323 non-null  bool   \n",
      " 7   overHistoryId    157323 non-null  int64  \n",
      "dtypes: bool(1), float64(2), int64(4), object(1)\n",
      "memory usage: 8.6+ MB\n"
     ]
    }
   ],
   "source": [
    "Over_Balls.info()"
   ]
  },
  {
   "cell_type": "code",
   "execution_count": 90,
   "id": "a6e1b897",
   "metadata": {},
   "outputs": [
    {
     "data": {
      "text/plain": [
       "id                   0\n",
       "countingBall         0\n",
       "nonCountingBall      0\n",
       "score                0\n",
       "bowlerId           101\n",
       "facingBatsmanId      3\n",
       "boundary             0\n",
       "overHistoryId        0\n",
       "dtype: int64"
      ]
     },
     "execution_count": 90,
     "metadata": {},
     "output_type": "execute_result"
    }
   ],
   "source": [
    "Over_Balls.isnull().sum()"
   ]
  },
  {
   "cell_type": "code",
   "execution_count": 91,
   "id": "30725942",
   "metadata": {},
   "outputs": [],
   "source": [
    "Over_Balls.dropna (subset= ['facingBatsmanId'], inplace=True)"
   ]
  },
  {
   "cell_type": "code",
   "execution_count": 92,
   "id": "12f141c7",
   "metadata": {},
   "outputs": [
    {
     "data": {
      "text/plain": [
       "id                   0\n",
       "countingBall         0\n",
       "nonCountingBall      0\n",
       "score                0\n",
       "bowlerId           101\n",
       "facingBatsmanId      0\n",
       "boundary             0\n",
       "overHistoryId        0\n",
       "dtype: int64"
      ]
     },
     "execution_count": 92,
     "metadata": {},
     "output_type": "execute_result"
    }
   ],
   "source": [
    "Over_Balls.isnull().sum()"
   ]
  },
  {
   "cell_type": "code",
   "execution_count": 93,
   "id": "3f450bc9",
   "metadata": {},
   "outputs": [
    {
     "data": {
      "text/plain": [
       "0"
      ]
     },
     "execution_count": 93,
     "metadata": {},
     "output_type": "execute_result"
    }
   ],
   "source": [
    "Over_Balls.duplicated().sum()"
   ]
  },
  {
   "cell_type": "code",
   "execution_count": 94,
   "id": "08aea398",
   "metadata": {},
   "outputs": [],
   "source": [
    "Over_Balls.dropna(subset=['bowlerId'], inplace=True)"
   ]
  },
  {
   "cell_type": "code",
   "execution_count": 95,
   "id": "27a2192c",
   "metadata": {},
   "outputs": [
    {
     "data": {
      "text/plain": [
       "id                 0\n",
       "countingBall       0\n",
       "nonCountingBall    0\n",
       "score              0\n",
       "bowlerId           0\n",
       "facingBatsmanId    0\n",
       "boundary           0\n",
       "overHistoryId      0\n",
       "dtype: int64"
      ]
     },
     "execution_count": 95,
     "metadata": {},
     "output_type": "execute_result"
    }
   ],
   "source": [
    "Over_Balls.isnull().sum()"
   ]
  },
  {
   "cell_type": "markdown",
   "id": "670de107",
   "metadata": {},
   "source": [
    "# Visualizations"
   ]
  },
  {
   "cell_type": "markdown",
   "id": "ef09b46a",
   "metadata": {},
   "source": [
    "# Analysis using Matches dataset"
   ]
  },
  {
   "cell_type": "code",
   "execution_count": 96,
   "id": "4e02875c",
   "metadata": {},
   "outputs": [
    {
     "data": {
      "image/png": "[encoded data removed]",
      "text/plain": [
       "<Figure size 640x480 with 1 Axes>"
      ]
     },
     "metadata": {},
     "output_type": "display_data"
    }
   ],
   "source": [
    "# Count the number of matches played by each team\n",
    "team1_count = Matches[\"team1Id\"].value_counts()\n",
    "team2_count = Matches[\"team2Id\"].value_counts()\n",
    "total_count = team1_count + team2_count\n",
    "\n",
    "# Plot the bar chart\n",
    "plt.bar(total_count.index, total_count.values)\n",
    "plt.xlabel(\"Team\")\n",
    "plt.ylabel(\"Number of matches\")\n",
    "plt.title(\"Number of matches played by each team\")\n",
    "plt.show()"
   ]
  },
  {
   "cell_type": "code",
   "execution_count": 100,
   "id": "147251d6",
   "metadata": {},
   "outputs": [
    {
     "data": {
      "image/png": "[encoded data removed]",
      "text/plain": [
       "<Figure size 640x480 with 1 Axes>"
      ]
     },
     "metadata": {},
     "output_type": "display_data"
    }
   ],
   "source": [
    "# Convert the matchDate and matchEndDate columns to datetime objects\n",
    "Matches['matchDate'] = pd.to_datetime(Matches['matchDate'])\n",
    "Matches['matchEndDate'] = pd.to_datetime(Matches['matchEndDate'])\n",
    "\n",
    "# Calculate the match duration in hours and store it in a new column\n",
    "Matches['matchDuration'] = (Matches['matchEndDate'] - Matches['matchDate']).dt.total_seconds() / 3600\n",
    "\n",
    "# Plot a histogram of the match duration with 10 bins\n",
    "plt.hist(Matches['matchDuration'], bins=10)\n",
    "\n",
    "# Add labels and title\n",
    "plt.xlabel('Match duration (hours)')\n",
    "plt.ylabel('Frequency')\n",
    "plt.title('Histogram of match duration')\n",
    "\n",
    "# Show the plot\n",
    "plt.show()"
   ]
  },
  {
   "cell_type": "code",
   "execution_count": 102,
   "id": "5a961386",
   "metadata": {},
   "outputs": [
    {
     "data": {
      "image/png": "[encoded data removed]",
      "text/plain": [
       "<Figure size 640x480 with 1 Axes>"
      ]
     },
     "metadata": {},
     "output_type": "display_data"
    }
   ],
   "source": [
    "plt.scatter('totalBalls', 'matchStatus_victoryMarginRuns')\n",
    "plt.xlabel('Total Balls')\n",
    "plt.ylabel('Victory Margin (Runs)')\n",
    "plt.show()"
   ]
  },
  {
   "cell_type": "code",
   "execution_count": 103,
   "id": "9cf18d8b",
   "metadata": {},
   "outputs": [
    {
     "data": {
      "image/png": "[encoded data removed]",
      "text/plain": [
       "<Figure size 640x480 with 1 Axes>"
      ]
     },
     "metadata": {},
     "output_type": "display_data"
    }
   ],
   "source": [
    "# Group the data by matchStatus_outcome and count the frequency\n",
    "outcome_counts = Matches.groupby (\"matchStatus_outcome\").size ()\n",
    "\n",
    "# Plot the pie chart with labels and percentages\n",
    "plt.pie (outcome_counts, labels=outcome_counts.index, autopct=\"%1.1f%%\")\n",
    "plt.title (\"Proportion of different match outcomes\")\n",
    "plt.show ()"
   ]
  },
  {
   "cell_type": "code",
   "execution_count": 128,
   "id": "cf20852a",
   "metadata": {},
   "outputs": [
    {
     "data": {
      "image/png": "[encoded data removed]",
      "text/plain": [
       "<Figure size 640x480 with 1 Axes>"
      ]
     },
     "metadata": {},
     "output_type": "display_data"
    }
   ],
   "source": [
    "order = Matches['toss.winner'].value_counts().index\n",
    "sns.set_style('darkgrid')\n",
    "sns.set_palette('Blues')\n",
    "g=sns.countplot(data=Matches,x='toss.winner',width=1,order=order)\n",
    "g.set(xlabel='Teams',ylabel='Count of tosses won')\n",
    "g.set_title('Tosses won by Teams')\n",
    "plt.xticks(rotation=90)\n",
    "plt.show()"
   ]
  },
  {
   "cell_type": "markdown",
   "id": "40bbb1e5",
   "metadata": {},
   "source": [
    "Analysis Using Innings dataset"
   ]
  },
  {
   "cell_type": "code",
   "execution_count": 112,
   "id": "a384dfdd",
   "metadata": {},
   "outputs": [
    {
     "data": {
      "text/plain": [
       "id                 int64\n",
       "matchId            int64\n",
       "inningsNumber      int64\n",
       "runRate          float64\n",
       "overProgress     float64\n",
       "runs               int64\n",
       "wkts               int64\n",
       "ballsFaced         int64\n",
       "fours              int64\n",
       "sixes              int64\n",
       "allOut              bool\n",
       "noBallRuns         int64\n",
       "wideRuns           int64\n",
       "byeRuns            int64\n",
       "legByeRuns         int64\n",
       "penaltyRuns        int64\n",
       "battingTeamId     object\n",
       "bowlingTeamId     object\n",
       "dtype: object"
      ]
     },
     "execution_count": 112,
     "metadata": {},
     "output_type": "execute_result"
    }
   ],
   "source": [
    "Innings.dtypes"
   ]
  },
  {
   "cell_type": "code",
   "execution_count": 114,
   "id": "014ca7b3",
   "metadata": {},
   "outputs": [
    {
     "ename": "IndentationError",
     "evalue": "unexpected indent (3472883191.py, line 3)",
     "output_type": "error",
     "traceback": [
      "\u001b[1;36m  Cell \u001b[1;32mIn[114], line 3\u001b[1;36m\u001b[0m\n\u001b[1;33m    outliers = []\u001b[0m\n\u001b[1;37m    ^\u001b[0m\n\u001b[1;31mIndentationError\u001b[0m\u001b[1;31m:\u001b[0m unexpected indent\n"
     ]
    }
   ],
   "source": [
    "# Define a function to detect outliers using z-scores\n",
    "#def detect_outlier(Innings):\n",
    "    outliers = []\n",
    "    threshold = 3 # You can adjust this value\n",
    "    mean = np.mean(Innings)\n",
    "    std = np.std(Innings)\n",
    "    for x in Innings:\n",
    "        z_score = (x - mean) / std\n",
    "        if np.abs(z_score) > threshold:\n",
    "            outliers.append(x)\n",
    "    return outliers\n",
    "\n",
    "# Apply the function to each column of the dataframe\n",
    "outliers_A = detect_outlier(Innings['runs'])\n",
    "outliers_B = detect_outlier(Innings['sixes'])\n",
    "outliers_C = detect_outlier(Innings['battingTeamId'])\n",
    "outliers_C = detect_outlier(Innings['fours'])\n",
    "#outliers_C = detect_outlier(Innings['Sixes'])\n",
    "#outliers_C = detect_outlier(Innings['runs'])\n",
    "# Print the outliers\n",
    "print('Outliers in column A:', outliers_A)\n",
    "print('Outliers in column B:', outliers_B)\n",
    "print('Outliers in column C:', outliers_C)\n",
    "print('Outliers in column C:', outliers_C)\n",
    "#print('Outliers in column C:', outliers_C)\n",
    "#print('Outliers in column C:', outliers_C)"
   ]
  },
  {
   "cell_type": "code",
   "execution_count": 105,
   "id": "19e4d00d",
   "metadata": {},
   "outputs": [
    {
     "data": {
      "image/png": "[encoded data removed]",
      "text/plain": [
       "<Figure size 640x480 with 1 Axes>"
      ]
     },
     "metadata": {},
     "output_type": "display_data"
    }
   ],
   "source": [
    "# plot a line plot using pandas.DataFrame.plot.line\n",
    "Innings.plot.line(x=\"overProgress\", y=\"runRate\")\n",
    "\n",
    "# show the plot\n",
    "plt.show()"
   ]
  },
  {
   "cell_type": "code",
   "execution_count": 106,
   "id": "e513b167",
   "metadata": {},
   "outputs": [
    {
     "data": {
      "image/png": "[encoded data removed]",
      "text/plain": [
       "<Figure size 640x480 with 1 Axes>"
      ]
     },
     "metadata": {},
     "output_type": "display_data"
    }
   ],
   "source": [
    "# Plot a bar plot of the number of fours and sixes scored by each team\n",
    "ax = Innings.plot.bar(x=\"battingTeamId\", y=[\"fours\", \"sixes\"], rot=0, title=\"Fours and Sixes by Team\")\n",
    "ax.set_xlabel(\"Team\")\n",
    "ax.set_ylabel(\"Number of Fours and Sixes\")\n",
    "plt.show()"
   ]
  },
  {
   "cell_type": "markdown",
   "id": "a8e2c226",
   "metadata": {},
   "source": [
    "making it more visually appealing"
   ]
  },
  {
   "cell_type": "code",
   "execution_count": 107,
   "id": "3b62b90e",
   "metadata": {},
   "outputs": [
    {
     "data": {
      "image/png": "[encoded data removed]",
      "text/plain": [
       "<Figure size 800x600 with 1 Axes>"
      ]
     },
     "metadata": {},
     "output_type": "display_data"
    }
   ],
   "source": [
    "# Set the style and color palette of the plot\n",
    "sns.set_style(\"whitegrid\")\n",
    "palette = sns.color_palette(\"muted\")\n",
    "\n",
    "# Plot the bar plot with the chosen style and palette\n",
    "ax = Innings.plot.bar(x=\"battingTeamId\", y=[\"fours\", \"sixes\"], rot=0, title=\"Fours and Sixes by Team\", color=palette)\n",
    "\n",
    "# Add labels and legend\n",
    "ax.set_xlabel(\"Team\")\n",
    "ax.set_ylabel(\"Number of Fours and Sixes\")\n",
    "ax.legend(loc=\"upper right\")\n",
    "\n",
    "# Remove the top and right spines\n",
    "ax.spines[\"top\"].set_visible(False)\n",
    "ax.spines[\"right\"].set_visible(False)\n",
    "\n",
    "# Annotate the bars with the values\n",
    "for p in ax.patches:\n",
    "    ax.annotate(str(p.get_height()), (p.get_x() + p.get_width() / 2, p.get_height() + 1), ha=\"center\", va=\"bottom\")\n",
    "\n",
    "# Adjust the size and margins of the plot\n",
    "plt.gcf().set_size_inches(8, 6)\n",
    "plt.tight_layout()\n",
    "plt.show()"
   ]
  },
  {
   "cell_type": "code",
   "execution_count": 108,
   "id": "59b29cbc",
   "metadata": {},
   "outputs": [
    {
     "data": {
      "image/png": "[encoded data removed]",
      "text/plain": [
       "<Figure size 640x480 with 1 Axes>"
      ]
     },
     "metadata": {},
     "output_type": "display_data"
    }
   ],
   "source": [
    "# create a box plot of the distribution of runs scored by each team\n",
    "Innings.boxplot(column=\"runs\", by=\"battingTeamId\")\n",
    "plt.show()"
   ]
  },
  {
   "cell_type": "markdown",
   "id": "6a9a648d",
   "metadata": {},
   "source": [
    "Visualizing Venues dataset"
   ]
  },
  {
   "cell_type": "code",
   "execution_count": 117,
   "id": "aa487cf7",
   "metadata": {},
   "outputs": [
    {
     "data": {
      "text/plain": [
       "Index(['id', 'fullName', 'shortName', 'city', 'country'], dtype='object')"
      ]
     },
     "execution_count": 117,
     "metadata": {},
     "output_type": "execute_result"
    }
   ],
   "source": [
    "Venues.columns"
   ]
  },
  {
   "cell_type": "code",
   "execution_count": 125,
   "id": "98cd0839",
   "metadata": {},
   "outputs": [
    {
     "data": {
      "text/plain": [
       "array(['India', 'South Africa', 'Sri Lanka', 'UAE', 'England',\n",
       "       'Australia', 'West Indies', 'Wales', 'Zimbabwe', 'Scotland',\n",
       "       'Ireland', 'Netherlands', 'Namibia', 'New Zealand',\n",
       "       'Northern Ireland', 'Bangladesh', 'Malaysia', 'Pakistan', 'Kenya',\n",
       "       'Papua New Guinea', 'USA', 'Trinidad & Tobago', 'Oman', 'Nepal',\n",
       "       'Qatar', 'missing'], dtype=object)"
      ]
     },
     "execution_count": 125,
     "metadata": {},
     "output_type": "execute_result"
    }
   ],
   "source": [
    "Venues['country'].unique()"
   ]
  },
  {
   "cell_type": "code",
   "execution_count": 124,
   "id": "9e4f88f8",
   "metadata": {},
   "outputs": [
    {
     "data": {
      "image/png": "[encoded data removed]",
      "text/plain": [
       "<Figure size 640x480 with 1 Axes>"
      ]
     },
     "metadata": {},
     "output_type": "display_data"
    }
   ],
   "source": [
    "# Group by country and city and count the number of entities\n",
    "grouped = Venues.groupby([\"country\", \"city\"])[\"fullName\"].count().reset_index()\n",
    "\n",
    "# Sort by descending order of entity count\n",
    "sorted = grouped.sort_values(by=\"fullName\", ascending=False)\n",
    "\n",
    "# Select only the top three countries and cities\n",
    "top_three = sorted.head(3)\n",
    "\n",
    "# Plot a bar chart with country and city as x-axis and entity count as y-axis\n",
    "plt.bar(x=top_three[\"country\"] + \" - \" + top_three[\"city\"], height=top_three[\"fullName\"])\n",
    "plt.xlabel(\"Country - City\")\n",
    "plt.ylabel(\"Entity Count\")\n",
    "plt.title(\"Frequency of Entities by Country or City\")\n",
    "plt.show()"
   ]
  },
  {
   "cell_type": "code",
   "execution_count": null,
   "id": "6b96af57",
   "metadata": {},
   "outputs": [],
   "source": []
  }
 ],
 "metadata": {
  "kernelspec": {
   "display_name": "Python 3 (ipykernel)",
   "language": "python",
   "name": "python3"
  },
  "language_info": {
   "codemirror_mode": {
    "name": "ipython",
    "version": 3
   },
   "file_extension": ".py",
   "mimetype": "text/x-python",
   "name": "python",
   "nbconvert_exporter": "python",
   "pygments_lexer": "ipython3",
   "version": "3.11.3"
  }
 },
 "nbformat": 4,
 "nbformat_minor": 5
}
